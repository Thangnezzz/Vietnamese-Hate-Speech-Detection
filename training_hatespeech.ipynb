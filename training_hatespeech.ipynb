{
  "cells": [
    {
      "cell_type": "markdown",
      "metadata": {
        "id": "93-QwcZDbkF2"
      },
      "source": [
        "# Download Modules"
      ]
    },
    {
      "cell_type": "code",
      "execution_count": 1,
      "metadata": {
        "colab": {
          "base_uri": "https://localhost:8080/"
        },
        "id": "DYSnQFa9bkF7",
        "outputId": "cebad7a7-32f6-4d76-d853-4608ddea6b1a"
      },
      "outputs": [
        {
          "name": "stdout",
          "output_type": "stream",
          "text": [
            "\u001b[2K     \u001b[90m━━━━━━━━━━━━━━━━━━━━━━━━━━━━━━━━━━━━━━━━\u001b[0m \u001b[32m547.8/547.8 kB\u001b[0m \u001b[31m3.9 MB/s\u001b[0m eta \u001b[36m0:00:00\u001b[0m\n",
            "\u001b[2K     \u001b[90m━━━━━━━━━━━━━━━━━━━━━━━━━━━━━━━━━━━━━━━━\u001b[0m \u001b[32m40.8/40.8 MB\u001b[0m \u001b[31m10.5 MB/s\u001b[0m eta \u001b[36m0:00:00\u001b[0m\n",
            "\u001b[2K     \u001b[90m━━━━━━━━━━━━━━━━━━━━━━━━━━━━━━━━━━━━━━━━\u001b[0m \u001b[32m116.3/116.3 kB\u001b[0m \u001b[31m7.1 MB/s\u001b[0m eta \u001b[36m0:00:00\u001b[0m\n",
            "\u001b[2K     \u001b[90m━━━━━━━━━━━━━━━━━━━━━━━━━━━━━━━━━━━━━━━━\u001b[0m \u001b[32m64.9/64.9 kB\u001b[0m \u001b[31m1.8 MB/s\u001b[0m eta \u001b[36m0:00:00\u001b[0m\n",
            "\u001b[2K     \u001b[90m━━━━━━━━━━━━━━━━━━━━━━━━━━━━━━━━━━━━━━━━\u001b[0m \u001b[32m194.1/194.1 kB\u001b[0m \u001b[31m11.9 MB/s\u001b[0m eta \u001b[36m0:00:00\u001b[0m\n",
            "\u001b[2K     \u001b[90m━━━━━━━━━━━━━━━━━━━━━━━━━━━━━━━━━━━━━━━━\u001b[0m \u001b[32m134.8/134.8 kB\u001b[0m \u001b[31m10.0 MB/s\u001b[0m eta \u001b[36m0:00:00\u001b[0m\n",
            "\u001b[?25h\u001b[31mERROR: pip's dependency resolver does not currently take into account all the packages that are installed. This behaviour is the source of the following dependency conflicts.\n",
            "cudf-cu12 24.4.1 requires pyarrow<15.0.0a0,>=14.0.1, but you have pyarrow 16.1.0 which is incompatible.\n",
            "google-colab 1.0.0 requires requests==2.31.0, but you have requests 2.32.3 which is incompatible.\n",
            "ibis-framework 8.0.0 requires pyarrow<16,>=2, but you have pyarrow 16.1.0 which is incompatible.\u001b[0m\u001b[31m\n",
            "\u001b[0m"
          ]
        }
      ],
      "source": [
        "!pip install -q transformers==4.41.2\n",
        "!pip install -q pyvi\n",
        "# !pip install -q tf-models-official #==2.7.0\n",
        "!pip install -q datasets"
      ]
    },
    {
      "cell_type": "markdown",
      "metadata": {
        "id": "iB86Ml7sm2W1"
      },
      "source": [
        "# Import Lib"
      ]
    },
    {
      "cell_type": "code",
      "execution_count": 14,
      "metadata": {
        "id": "NgeFNrjhm2W5"
      },
      "outputs": [],
      "source": [
        "import pandas as pd\n",
        "import matplotlib.pyplot as plt\n",
        "import seaborn as sns\n",
        "import numpy as np\n",
        "\n",
        "from collections import Counter\n",
        "from wordcloud import WordCloud\n",
        "\n",
        "# ML\n",
        "from sklearn.feature_extraction.text import CountVectorizer, TfidfVectorizer\n",
        "from sklearn.linear_model import LogisticRegression\n",
        "from sklearn.svm import SVC\n",
        "from sklearn.metrics import classification_report, accuracy_score, f1_score\n",
        "import joblib\n",
        "\n",
        "# DL\n",
        "import tensorflow as tf\n",
        "from keras.utils import pad_sequences, to_categorical\n",
        "from keras.preprocessing.text import Tokenizer\n",
        "from keras.layers import LSTM, Dense, Embedding, Input, Bidirectional, Dropout, concatenate, BatchNormalization, GlobalMaxPooling1D\n",
        "from keras.models import Model, Sequential\n",
        "\n",
        "# PLM\n",
        "import os\n",
        "import torch\n",
        "from datasets import load_dataset\n",
        "from transformers import AutoTokenizer, TFAutoModel\n",
        "from tensorflow.data import Dataset\n",
        "from keras.optimizers import Adam\n",
        "from keras.callbacks import LearningRateScheduler, ReduceLROnPlateau, EarlyStopping, ModelCheckpoint\n",
        "from tensorflow.train import CheckpointOptions"
      ]
    },
    {
      "cell_type": "markdown",
      "metadata": {
        "id": "Is0y3R5rm2W7"
      },
      "source": [
        "# Read dataset"
      ]
    },
    {
      "cell_type": "code",
      "execution_count": 2,
      "metadata": {
        "colab": {
          "base_uri": "https://localhost:8080/"
        },
        "id": "QG_t0nKwzui9",
        "outputId": "6724b419-087c-4177-d066-f126a681b2a1"
      },
      "outputs": [
        {
          "name": "stdout",
          "output_type": "stream",
          "text": [
            "Mounted at /content/drive\n"
          ]
        }
      ],
      "source": [
        "from google.colab import drive\n",
        "drive.mount('/content/drive')"
      ]
    },
    {
      "cell_type": "code",
      "execution_count": 15,
      "metadata": {
        "colab": {
          "base_uri": "https://localhost:8080/",
          "height": 423
        },
        "id": "QQQ684PWm2W8",
        "outputId": "c1403342-acab-435d-c91e-2f2dde5daf0b"
      },
      "outputs": [
        {
          "data": {
            "application/vnd.google.colaboratory.intrinsic+json": {
              "summary": "{\n  \"name\": \"train_df\",\n  \"rows\": 5166,\n  \"fields\": [\n    {\n      \"column\": \"cmt_col\",\n      \"properties\": {\n        \"dtype\": \"string\",\n        \"num_unique_values\": 4867,\n        \"samples\": [\n          \"C\\u1ed1 l\\u00ean t\\u00f4i tin ch\\u00fang ta s\\u1ebd l\\u00e0m \\u0111\\u01b0\\u1ee3c\",\n          \"A di \\u0111\\u00e0 Ph\\u1eadt xin cho con v\\u1ec1 v\\u1edbi Ph\\u1eadt\",\n          \"n\\u00f3 ch\\u1eedi \\u0111\\u1ed3ng \\u0111\\u1ed9i nh\\u01b0 con , tuy r\\u1eb1ng feed l\\u00f2i cuc m\\u00e0 b\\u1ea1n c\\u00f2n b\\u1ee3 \\u0111\\u00edt n\\u00f3 \\u0111c th\\u00ec m\\u00ecnh ngh\\u0129 b\\u1ea1n vc n\\u00f3 t\\u00ednh h\\u1ee3p nhau \\u0111\\u00f3 :))\"\n        ],\n        \"semantic_type\": \"\",\n        \"description\": \"\"\n      }\n    },\n    {\n      \"column\": \"labels\",\n      \"properties\": {\n        \"dtype\": \"number\",\n        \"std\": 0.7998105829975276,\n        \"min\": 0.0,\n        \"max\": 2.0,\n        \"num_unique_values\": 3,\n        \"samples\": [\n          1.0,\n          0.0,\n          2.0\n        ],\n        \"semantic_type\": \"\",\n        \"description\": \"\"\n      }\n    }\n  ]\n}",
              "type": "dataframe",
              "variable_name": "train_df"
            },
            "text/html": [
              "\n",
              "  <div id=\"df-af3cda6f-496d-4d05-b35f-4b47eec8e4ec\" class=\"colab-df-container\">\n",
              "    <div>\n",
              "<style scoped>\n",
              "    .dataframe tbody tr th:only-of-type {\n",
              "        vertical-align: middle;\n",
              "    }\n",
              "\n",
              "    .dataframe tbody tr th {\n",
              "        vertical-align: top;\n",
              "    }\n",
              "\n",
              "    .dataframe thead th {\n",
              "        text-align: right;\n",
              "    }\n",
              "</style>\n",
              "<table border=\"1\" class=\"dataframe\">\n",
              "  <thead>\n",
              "    <tr style=\"text-align: right;\">\n",
              "      <th></th>\n",
              "      <th>cmt_col</th>\n",
              "      <th>labels</th>\n",
              "    </tr>\n",
              "  </thead>\n",
              "  <tbody>\n",
              "    <tr>\n",
              "      <th>0</th>\n",
              "      <td>cặc</td>\n",
              "      <td>1.0</td>\n",
              "    </tr>\n",
              "    <tr>\n",
              "      <th>1</th>\n",
              "      <td>đr hết thời cày rank bk còn ngợp</td>\n",
              "      <td>0.0</td>\n",
              "    </tr>\n",
              "    <tr>\n",
              "      <th>2</th>\n",
              "      <td>Diễn viên hô ni hút mà ngại gì mấy khác kk</td>\n",
              "      <td>0.0</td>\n",
              "    </tr>\n",
              "    <tr>\n",
              "      <th>3</th>\n",
              "      <td>Toàn bọn vô công rồi nghề ngồi sủa ăn lương th...</td>\n",
              "      <td>2.0</td>\n",
              "    </tr>\n",
              "    <tr>\n",
              "      <th>4</th>\n",
              "      <td>lên kim cương bố ỉa vào mồm mày với cái lối lê...</td>\n",
              "      <td>1.0</td>\n",
              "    </tr>\n",
              "    <tr>\n",
              "      <th>...</th>\n",
              "      <td>...</td>\n",
              "      <td>...</td>\n",
              "    </tr>\n",
              "    <tr>\n",
              "      <th>5161</th>\n",
              "      <td>Đánh ngu đẩy láo chết hét cái đầu buồi</td>\n",
              "      <td>2.0</td>\n",
              "    </tr>\n",
              "    <tr>\n",
              "      <th>5162</th>\n",
              "      <td>xinh mà ngu</td>\n",
              "      <td>1.0</td>\n",
              "    </tr>\n",
              "    <tr>\n",
              "      <th>5163</th>\n",
              "      <td>Trần ThanhThảo Tuyết Hoa bớt nc vs zai lạ</td>\n",
              "      <td>0.0</td>\n",
              "    </tr>\n",
              "    <tr>\n",
              "      <th>5164</th>\n",
              "      <td>Cái tội thích trai đẹp</td>\n",
              "      <td>0.0</td>\n",
              "    </tr>\n",
              "    <tr>\n",
              "      <th>5165</th>\n",
              "      <td>Hòa Nguyễn đam mê nợ nần sẽ theo đuổi e</td>\n",
              "      <td>0.0</td>\n",
              "    </tr>\n",
              "  </tbody>\n",
              "</table>\n",
              "<p>5166 rows × 2 columns</p>\n",
              "</div>\n",
              "    <div class=\"colab-df-buttons\">\n",
              "\n",
              "  <div class=\"colab-df-container\">\n",
              "    <button class=\"colab-df-convert\" onclick=\"convertToInteractive('df-af3cda6f-496d-4d05-b35f-4b47eec8e4ec')\"\n",
              "            title=\"Convert this dataframe to an interactive table.\"\n",
              "            style=\"display:none;\">\n",
              "\n",
              "  <svg xmlns=\"http://www.w3.org/2000/svg\" height=\"24px\" viewBox=\"0 -960 960 960\">\n",
              "    <path d=\"M120-120v-720h720v720H120Zm60-500h600v-160H180v160Zm220 220h160v-160H400v160Zm0 220h160v-160H400v160ZM180-400h160v-160H180v160Zm440 0h160v-160H620v160ZM180-180h160v-160H180v160Zm440 0h160v-160H620v160Z\"/>\n",
              "  </svg>\n",
              "    </button>\n",
              "\n",
              "  <style>\n",
              "    .colab-df-container {\n",
              "      display:flex;\n",
              "      gap: 12px;\n",
              "    }\n",
              "\n",
              "    .colab-df-convert {\n",
              "      background-color: #E8F0FE;\n",
              "      border: none;\n",
              "      border-radius: 50%;\n",
              "      cursor: pointer;\n",
              "      display: none;\n",
              "      fill: #1967D2;\n",
              "      height: 32px;\n",
              "      padding: 0 0 0 0;\n",
              "      width: 32px;\n",
              "    }\n",
              "\n",
              "    .colab-df-convert:hover {\n",
              "      background-color: #E2EBFA;\n",
              "      box-shadow: 0px 1px 2px rgba(60, 64, 67, 0.3), 0px 1px 3px 1px rgba(60, 64, 67, 0.15);\n",
              "      fill: #174EA6;\n",
              "    }\n",
              "\n",
              "    .colab-df-buttons div {\n",
              "      margin-bottom: 4px;\n",
              "    }\n",
              "\n",
              "    [theme=dark] .colab-df-convert {\n",
              "      background-color: #3B4455;\n",
              "      fill: #D2E3FC;\n",
              "    }\n",
              "\n",
              "    [theme=dark] .colab-df-convert:hover {\n",
              "      background-color: #434B5C;\n",
              "      box-shadow: 0px 1px 3px 1px rgba(0, 0, 0, 0.15);\n",
              "      filter: drop-shadow(0px 1px 2px rgba(0, 0, 0, 0.3));\n",
              "      fill: #FFFFFF;\n",
              "    }\n",
              "  </style>\n",
              "\n",
              "    <script>\n",
              "      const buttonEl =\n",
              "        document.querySelector('#df-af3cda6f-496d-4d05-b35f-4b47eec8e4ec button.colab-df-convert');\n",
              "      buttonEl.style.display =\n",
              "        google.colab.kernel.accessAllowed ? 'block' : 'none';\n",
              "\n",
              "      async function convertToInteractive(key) {\n",
              "        const element = document.querySelector('#df-af3cda6f-496d-4d05-b35f-4b47eec8e4ec');\n",
              "        const dataTable =\n",
              "          await google.colab.kernel.invokeFunction('convertToInteractive',\n",
              "                                                    [key], {});\n",
              "        if (!dataTable) return;\n",
              "\n",
              "        const docLinkHtml = 'Like what you see? Visit the ' +\n",
              "          '<a target=\"_blank\" href=https://colab.research.google.com/notebooks/data_table.ipynb>data table notebook</a>'\n",
              "          + ' to learn more about interactive tables.';\n",
              "        element.innerHTML = '';\n",
              "        dataTable['output_type'] = 'display_data';\n",
              "        await google.colab.output.renderOutput(dataTable, element);\n",
              "        const docLink = document.createElement('div');\n",
              "        docLink.innerHTML = docLinkHtml;\n",
              "        element.appendChild(docLink);\n",
              "      }\n",
              "    </script>\n",
              "  </div>\n",
              "\n",
              "\n",
              "<div id=\"df-fb749aed-e24a-4e09-a02c-b0772a9ccb32\">\n",
              "  <button class=\"colab-df-quickchart\" onclick=\"quickchart('df-fb749aed-e24a-4e09-a02c-b0772a9ccb32')\"\n",
              "            title=\"Suggest charts\"\n",
              "            style=\"display:none;\">\n",
              "\n",
              "<svg xmlns=\"http://www.w3.org/2000/svg\" height=\"24px\"viewBox=\"0 0 24 24\"\n",
              "     width=\"24px\">\n",
              "    <g>\n",
              "        <path d=\"M19 3H5c-1.1 0-2 .9-2 2v14c0 1.1.9 2 2 2h14c1.1 0 2-.9 2-2V5c0-1.1-.9-2-2-2zM9 17H7v-7h2v7zm4 0h-2V7h2v10zm4 0h-2v-4h2v4z\"/>\n",
              "    </g>\n",
              "</svg>\n",
              "  </button>\n",
              "\n",
              "<style>\n",
              "  .colab-df-quickchart {\n",
              "      --bg-color: #E8F0FE;\n",
              "      --fill-color: #1967D2;\n",
              "      --hover-bg-color: #E2EBFA;\n",
              "      --hover-fill-color: #174EA6;\n",
              "      --disabled-fill-color: #AAA;\n",
              "      --disabled-bg-color: #DDD;\n",
              "  }\n",
              "\n",
              "  [theme=dark] .colab-df-quickchart {\n",
              "      --bg-color: #3B4455;\n",
              "      --fill-color: #D2E3FC;\n",
              "      --hover-bg-color: #434B5C;\n",
              "      --hover-fill-color: #FFFFFF;\n",
              "      --disabled-bg-color: #3B4455;\n",
              "      --disabled-fill-color: #666;\n",
              "  }\n",
              "\n",
              "  .colab-df-quickchart {\n",
              "    background-color: var(--bg-color);\n",
              "    border: none;\n",
              "    border-radius: 50%;\n",
              "    cursor: pointer;\n",
              "    display: none;\n",
              "    fill: var(--fill-color);\n",
              "    height: 32px;\n",
              "    padding: 0;\n",
              "    width: 32px;\n",
              "  }\n",
              "\n",
              "  .colab-df-quickchart:hover {\n",
              "    background-color: var(--hover-bg-color);\n",
              "    box-shadow: 0 1px 2px rgba(60, 64, 67, 0.3), 0 1px 3px 1px rgba(60, 64, 67, 0.15);\n",
              "    fill: var(--button-hover-fill-color);\n",
              "  }\n",
              "\n",
              "  .colab-df-quickchart-complete:disabled,\n",
              "  .colab-df-quickchart-complete:disabled:hover {\n",
              "    background-color: var(--disabled-bg-color);\n",
              "    fill: var(--disabled-fill-color);\n",
              "    box-shadow: none;\n",
              "  }\n",
              "\n",
              "  .colab-df-spinner {\n",
              "    border: 2px solid var(--fill-color);\n",
              "    border-color: transparent;\n",
              "    border-bottom-color: var(--fill-color);\n",
              "    animation:\n",
              "      spin 1s steps(1) infinite;\n",
              "  }\n",
              "\n",
              "  @keyframes spin {\n",
              "    0% {\n",
              "      border-color: transparent;\n",
              "      border-bottom-color: var(--fill-color);\n",
              "      border-left-color: var(--fill-color);\n",
              "    }\n",
              "    20% {\n",
              "      border-color: transparent;\n",
              "      border-left-color: var(--fill-color);\n",
              "      border-top-color: var(--fill-color);\n",
              "    }\n",
              "    30% {\n",
              "      border-color: transparent;\n",
              "      border-left-color: var(--fill-color);\n",
              "      border-top-color: var(--fill-color);\n",
              "      border-right-color: var(--fill-color);\n",
              "    }\n",
              "    40% {\n",
              "      border-color: transparent;\n",
              "      border-right-color: var(--fill-color);\n",
              "      border-top-color: var(--fill-color);\n",
              "    }\n",
              "    60% {\n",
              "      border-color: transparent;\n",
              "      border-right-color: var(--fill-color);\n",
              "    }\n",
              "    80% {\n",
              "      border-color: transparent;\n",
              "      border-right-color: var(--fill-color);\n",
              "      border-bottom-color: var(--fill-color);\n",
              "    }\n",
              "    90% {\n",
              "      border-color: transparent;\n",
              "      border-bottom-color: var(--fill-color);\n",
              "    }\n",
              "  }\n",
              "</style>\n",
              "\n",
              "  <script>\n",
              "    async function quickchart(key) {\n",
              "      const quickchartButtonEl =\n",
              "        document.querySelector('#' + key + ' button');\n",
              "      quickchartButtonEl.disabled = true;  // To prevent multiple clicks.\n",
              "      quickchartButtonEl.classList.add('colab-df-spinner');\n",
              "      try {\n",
              "        const charts = await google.colab.kernel.invokeFunction(\n",
              "            'suggestCharts', [key], {});\n",
              "      } catch (error) {\n",
              "        console.error('Error during call to suggestCharts:', error);\n",
              "      }\n",
              "      quickchartButtonEl.classList.remove('colab-df-spinner');\n",
              "      quickchartButtonEl.classList.add('colab-df-quickchart-complete');\n",
              "    }\n",
              "    (() => {\n",
              "      let quickchartButtonEl =\n",
              "        document.querySelector('#df-fb749aed-e24a-4e09-a02c-b0772a9ccb32 button');\n",
              "      quickchartButtonEl.style.display =\n",
              "        google.colab.kernel.accessAllowed ? 'block' : 'none';\n",
              "    })();\n",
              "  </script>\n",
              "</div>\n",
              "\n",
              "  <div id=\"id_123e33ff-bf1a-4e96-b886-e3d201dd84f7\">\n",
              "    <style>\n",
              "      .colab-df-generate {\n",
              "        background-color: #E8F0FE;\n",
              "        border: none;\n",
              "        border-radius: 50%;\n",
              "        cursor: pointer;\n",
              "        display: none;\n",
              "        fill: #1967D2;\n",
              "        height: 32px;\n",
              "        padding: 0 0 0 0;\n",
              "        width: 32px;\n",
              "      }\n",
              "\n",
              "      .colab-df-generate:hover {\n",
              "        background-color: #E2EBFA;\n",
              "        box-shadow: 0px 1px 2px rgba(60, 64, 67, 0.3), 0px 1px 3px 1px rgba(60, 64, 67, 0.15);\n",
              "        fill: #174EA6;\n",
              "      }\n",
              "\n",
              "      [theme=dark] .colab-df-generate {\n",
              "        background-color: #3B4455;\n",
              "        fill: #D2E3FC;\n",
              "      }\n",
              "\n",
              "      [theme=dark] .colab-df-generate:hover {\n",
              "        background-color: #434B5C;\n",
              "        box-shadow: 0px 1px 3px 1px rgba(0, 0, 0, 0.15);\n",
              "        filter: drop-shadow(0px 1px 2px rgba(0, 0, 0, 0.3));\n",
              "        fill: #FFFFFF;\n",
              "      }\n",
              "    </style>\n",
              "    <button class=\"colab-df-generate\" onclick=\"generateWithVariable('train_df')\"\n",
              "            title=\"Generate code using this dataframe.\"\n",
              "            style=\"display:none;\">\n",
              "\n",
              "  <svg xmlns=\"http://www.w3.org/2000/svg\" height=\"24px\"viewBox=\"0 0 24 24\"\n",
              "       width=\"24px\">\n",
              "    <path d=\"M7,19H8.4L18.45,9,17,7.55,7,17.6ZM5,21V16.75L18.45,3.32a2,2,0,0,1,2.83,0l1.4,1.43a1.91,1.91,0,0,1,.58,1.4,1.91,1.91,0,0,1-.58,1.4L9.25,21ZM18.45,9,17,7.55Zm-12,3A5.31,5.31,0,0,0,4.9,8.1,5.31,5.31,0,0,0,1,6.5,5.31,5.31,0,0,0,4.9,4.9,5.31,5.31,0,0,0,6.5,1,5.31,5.31,0,0,0,8.1,4.9,5.31,5.31,0,0,0,12,6.5,5.46,5.46,0,0,0,6.5,12Z\"/>\n",
              "  </svg>\n",
              "    </button>\n",
              "    <script>\n",
              "      (() => {\n",
              "      const buttonEl =\n",
              "        document.querySelector('#id_123e33ff-bf1a-4e96-b886-e3d201dd84f7 button.colab-df-generate');\n",
              "      buttonEl.style.display =\n",
              "        google.colab.kernel.accessAllowed ? 'block' : 'none';\n",
              "\n",
              "      buttonEl.onclick = () => {\n",
              "        google.colab.notebook.generateWithVariable('train_df');\n",
              "      }\n",
              "      })();\n",
              "    </script>\n",
              "  </div>\n",
              "\n",
              "    </div>\n",
              "  </div>\n"
            ],
            "text/plain": [
              "                                                cmt_col  labels\n",
              "0                                                   cặc     1.0\n",
              "1                      đr hết thời cày rank bk còn ngợp     0.0\n",
              "2            Diễn viên hô ni hút mà ngại gì mấy khác kk     0.0\n",
              "3     Toàn bọn vô công rồi nghề ngồi sủa ăn lương th...     2.0\n",
              "4     lên kim cương bố ỉa vào mồm mày với cái lối lê...     1.0\n",
              "...                                                 ...     ...\n",
              "5161             Đánh ngu đẩy láo chết hét cái đầu buồi     2.0\n",
              "5162                                        xinh mà ngu     1.0\n",
              "5163          Trần ThanhThảo Tuyết Hoa bớt nc vs zai lạ     0.0\n",
              "5164                             Cái tội thích trai đẹp     0.0\n",
              "5165            Hòa Nguyễn đam mê nợ nần sẽ theo đuổi e     0.0\n",
              "\n",
              "[5166 rows x 2 columns]"
            ]
          },
          "execution_count": 15,
          "metadata": {},
          "output_type": "execute_result"
        }
      ],
      "source": [
        "train_df = pd.read_csv(\"/content/drive/MyDrive/DS108_FP/Final_dataset/train_df.csv\")\n",
        "val_df = pd.read_csv(\"/content/drive/MyDrive/DS108_FP/Final_dataset/val_df.csv\")\n",
        "test_df = pd.read_csv(\"/content/drive/MyDrive/DS108_FP/Final_dataset/test_df.csv\")\n",
        "\n",
        "train_df"
      ]
    },
    {
      "cell_type": "code",
      "execution_count": 4,
      "metadata": {
        "colab": {
          "base_uri": "https://localhost:8080/"
        },
        "id": "u7VpDHvxm2W9",
        "outputId": "00c1e771-e772-41a0-b47b-6e5b547186bf"
      },
      "outputs": [
        {
          "name": "stdout",
          "output_type": "stream",
          "text": [
            "<class 'pandas.core.frame.DataFrame'>\n",
            "RangeIndex: 5166 entries, 0 to 5165\n",
            "Data columns (total 2 columns):\n",
            " #   Column   Non-Null Count  Dtype  \n",
            "---  ------   --------------  -----  \n",
            " 0   cmt_col  5166 non-null   object \n",
            " 1   labels   5166 non-null   float64\n",
            "dtypes: float64(1), object(1)\n",
            "memory usage: 80.8+ KB\n"
          ]
        }
      ],
      "source": [
        "train_df.info()"
      ]
    },
    {
      "cell_type": "markdown",
      "metadata": {
        "id": "3py-FuUxm2W9"
      },
      "source": [
        "# Visualization"
      ]
    },
    {
      "cell_type": "code",
      "execution_count": 36,
      "metadata": {
        "colab": {
          "base_uri": "https://localhost:8080/"
        },
        "id": "qS0xVldsm2W-",
        "outputId": "44c9652d-2663-486c-8713-1cdd21bb9f0a"
      },
      "outputs": [
        {
          "name": "stdout",
          "output_type": "stream",
          "text": [
            "Unique words in corpus: 10937\n"
          ]
        }
      ],
      "source": [
        "# Số lượng từ vựng trong bộ dữ liệu\n",
        "def statistical(list):\n",
        "    all_elements = [word for sentence in list for word in sentence.split()]\n",
        "    unique_set = set(all_elements)\n",
        "    count_unique = len(unique_set)\n",
        "    return count_unique\n",
        "\n",
        "print(\"Unique words in corpus:\", statistical(train_df.cmt_col.tolist() + val_df.cmt_col.tolist() + test_df.cmt_col.tolist()))"
      ]
    },
    {
      "cell_type": "code",
      "execution_count": 37,
      "metadata": {
        "colab": {
          "base_uri": "https://localhost:8080/",
          "height": 231
        },
        "id": "3pQ8wtYpm2W-",
        "outputId": "fd154c2e-4341-4c3f-8d1e-407bea0ba666"
      },
      "outputs": [
        {
          "name": "stdout",
          "output_type": "stream",
          "text": [
            "Max sentence len: 133\n"
          ]
        },
        {
          "data": {
            "image/png": "[encoded data removed]",
            "text/plain": [
              "<Figure size 200x200 with 1 Axes>"
            ]
          },
          "metadata": {},
          "output_type": "display_data"
        }
      ],
      "source": [
        "#vẽ biểu đồ thể hiện phân bố chiều dài của câu trong tập dữ liệu.\n",
        "def visualize(input):\n",
        "    longest_sentence = max(input.values, key=len)\n",
        "    print(f\"Max sentence len: {len(longest_sentence.split())}\")\n",
        "\n",
        "    ax = plt.figure(figsize=(2,2))\n",
        "    seq_len = [len(i.split()) for i in input]\n",
        "    pd.Series(seq_len).hist(bins = 10)\n",
        "    plt.show()\n",
        "\n",
        "visualize(train_df.cmt_col)"
      ]
    },
    {
      "cell_type": "code",
      "execution_count": 38,
      "metadata": {
        "colab": {
          "base_uri": "https://localhost:8080/",
          "height": 285
        },
        "id": "xH76HEmtm2W_",
        "outputId": "c24b0d92-825d-4184-d44a-73db0b646b3e"
      },
      "outputs": [
        {
          "data": {
            "image/png": "[encoded data removed]",
            "text/plain": [
              "<Figure size 640x480 with 1 Axes>"
            ]
          },
          "metadata": {},
          "output_type": "display_data"
        }
      ],
      "source": [
        "wordcloud2 = WordCloud().generate(' '.join(train_df['cmt_col']))\n",
        "text3 = ' '.join(train_df['cmt_col'])\n",
        "wordcloud2 = WordCloud().generate(text3)\n",
        "# Generate plot\n",
        "plt.imshow(wordcloud2)\n",
        "plt.axis(\"off\")\n",
        "plt.show()"
      ]
    },
    {
      "cell_type": "code",
      "execution_count": 25,
      "metadata": {
        "colab": {
          "base_uri": "https://localhost:8080/",
          "height": 369
        },
        "id": "KM-I6DMnm2XA",
        "outputId": "7857828c-fd12-4583-b0d6-051d2044f625"
      },
      "outputs": [
        {
          "data": {
            "image/png": "[encoded data removed]",
            "text/plain": [
              "<Figure size 1500x1200 with 3 Axes>"
            ]
          },
          "metadata": {},
          "output_type": "display_data"
        }
      ],
      "source": [
        "# Số lượng nhãn\n",
        "def make_autopct(values):\n",
        "    def my_autopct(pct):\n",
        "        total = sum(values)\n",
        "        val = int(round(pct*total/100.0))\n",
        "        return '{p:.1f}%  ({v:d})'.format(p=pct,v=val)\n",
        "    return my_autopct\n",
        "\n",
        "train_count = Counter(train_df.labels.values)\n",
        "val_count = Counter(val_df.labels.values)\n",
        "test_count = Counter(test_df.labels.values)\n",
        "new_order = [0, 1, 2]\n",
        "train_count = Counter({key: train_count[key] for key in new_order})\n",
        "val_count = Counter({key: val_count[key] for key in new_order})\n",
        "test_count = Counter({key: test_count[key] for key in new_order})\n",
        "\n",
        "count_list = [train_count, val_count, test_count]\n",
        "title_list = [\"Train\", \"Val\", \"Test\"]\n",
        "labels_list = [\"Clean\", \"Offensive\", \"Hate\"]\n",
        "\n",
        "plt.figure(figsize=(15, 12))\n",
        "for idx, value in enumerate(count_list):\n",
        "    plt.subplot2grid((1, 3), (0, idx))\n",
        "    plt.pie(value.values(), labels = labels_list, autopct=make_autopct(value.values()), explode=[0, 0, 0], startangle=140)\n",
        "    plt.title(title_list[idx])"
      ]
    },
    {
      "cell_type": "markdown",
      "metadata": {
        "id": "ASICqkQWm2XB"
      },
      "source": [
        "# Data Preprocessing"
      ]
    },
    {
      "cell_type": "code",
      "execution_count": null,
      "metadata": {
        "id": "YZy_TSeym2XB"
      },
      "outputs": [],
      "source": [
        "from preprocess import remove_http, normalize_acronyms, remove_emoji, remove_unnecessary_characters, word_segmentation\n",
        "def text_preprocess(text):\n",
        "    text = text.lower()\n",
        "    text = remove_http(text)\n",
        "    text = remove_unnecessary_characters(text)\n",
        "    text = remove_emoji(text)\n",
        "    text = normalize_acronyms(text)\n",
        "    text = word_segmentation(text)\n",
        "    return text\n",
        "\n",
        "train_text = list(map(text_preprocess, train_df['cmt_col']))\n",
        "val_text = list(map(text_preprocess, val_df['cmt_col']))\n",
        "test_text = list(map(text_preprocess, test_df['cmt_col']))\n",
        "\n",
        "train_labels = train_df.labels.values.astype(\"int64\")\n",
        "val_labels = val_df.labels.values.astype(\"int64\")\n",
        "test_labels = test_df.labels.values.astype(\"int64\")"
      ]
    },
    {
      "cell_type": "code",
      "execution_count": null,
      "metadata": {
        "id": "LZJNFsQnm2XB"
      },
      "outputs": [],
      "source": [
        "tfvec = TfidfVectorizer()\n",
        "train_tf_features = tfvec.fit_transform(train_text)\n",
        "val_tf_features = tfvec.transform(val_text)\n",
        "test_tf_features = tfvec.transform(test_text)"
      ]
    },
    {
      "cell_type": "code",
      "execution_count": null,
      "metadata": {
        "id": "_yWgFSvUiXnE"
      },
      "outputs": [],
      "source": [
        "MODEL_PATH = '/content/drive/MyDrive/DS108_FP/data_our/model_save'"
      ]
    },
    {
      "cell_type": "markdown",
      "metadata": {
        "id": "2ka5zxM8m2XC"
      },
      "source": [
        "# ML"
      ]
    },
    {
      "cell_type": "code",
      "execution_count": null,
      "metadata": {
        "colab": {
          "base_uri": "https://localhost:8080/"
        },
        "id": "3ph8-SJIm2XC",
        "outputId": "aed760d4-c68a-46d0-fbd9-d05d58c63111"
      },
      "outputs": [
        {
          "name": "stdout",
          "output_type": "stream",
          "text": [
            "              precision    recall  f1-score   support\n",
            "\n",
            "           0     0.8760    0.7580    0.8127       690\n",
            "           1     0.6133    0.6751    0.6427       437\n",
            "           2     0.7023    0.8023    0.7490       344\n",
            "\n",
            "    accuracy                         0.7437      1471\n",
            "   macro avg     0.7305    0.7451    0.7348      1471\n",
            "weighted avg     0.7574    0.7437    0.7473      1471\n",
            "\n"
          ]
        }
      ],
      "source": [
        "LR = LogisticRegression()\n",
        "LR.fit(train_tf_features, train_labels)\n",
        "pred = LR.predict(test_tf_features)\n",
        "\n",
        "print(classification_report(pred, test_labels, digits=4))"
      ]
    },
    {
      "cell_type": "code",
      "execution_count": null,
      "metadata": {
        "colab": {
          "base_uri": "https://localhost:8080/",
          "height": 449
        },
        "id": "XC7_bbPmrA_L",
        "outputId": "7f13b9a1-e2ed-4cb6-cad0-d8caa3d450a7"
      },
      "outputs": [
        {
          "data": {
            "image/png": "[encoded data removed]",
            "text/plain": [
              "<Figure size 640x480 with 2 Axes>"
            ]
          },
          "metadata": {},
          "output_type": "display_data"
        }
      ],
      "source": [
        "cf = pd.crosstab(pred, test_labels, rownames=(['Predicted']), colnames=(['True']))\n",
        "sns.heatmap(cf, annot=True, fmt='d', cmap='Blues');"
      ]
    },
    {
      "cell_type": "code",
      "execution_count": null,
      "metadata": {
        "id": "3VZftJXThJW5"
      },
      "outputs": [],
      "source": [
        "with open(f'{MODEL_PATH}/lr_74_prep.txt', 'w') as file:\n",
        "    for item in pred.tolist():\n",
        "        file.write(f\"{item}\\n\")"
      ]
    },
    {
      "cell_type": "code",
      "execution_count": null,
      "metadata": {
        "colab": {
          "base_uri": "https://localhost:8080/"
        },
        "id": "9im0r41Mm2XC",
        "outputId": "85811d89-9e52-4278-9a24-494c49043283"
      },
      "outputs": [
        {
          "name": "stdout",
          "output_type": "stream",
          "text": [
            "              precision    recall  f1-score   support\n",
            "\n",
            "           0     0.8961    0.7687    0.8275       696\n",
            "           1     0.6507    0.7098    0.6790       441\n",
            "           2     0.6947    0.8174    0.7510       334\n",
            "\n",
            "    accuracy                         0.7621      1471\n",
            "   macro avg     0.7472    0.7653    0.7525      1471\n",
            "weighted avg     0.7768    0.7621    0.7656      1471\n",
            "\n"
          ]
        }
      ],
      "source": [
        "svc = SVC()\n",
        "svc.fit(train_tf_features, train_labels)\n",
        "predict = svc.predict(test_tf_features)\n",
        "\n",
        "print(classification_report(predict, test_labels, digits = 4))"
      ]
    },
    {
      "cell_type": "code",
      "execution_count": null,
      "metadata": {
        "colab": {
          "base_uri": "https://localhost:8080/",
          "height": 449
        },
        "id": "KssHdhjzm2XD",
        "outputId": "ad8ab0b3-9247-447a-9f40-940db5e240e5"
      },
      "outputs": [
        {
          "data": {
            "image/png": "[encoded data removed]",
            "text/plain": [
              "<Figure size 640x480 with 2 Axes>"
            ]
          },
          "metadata": {},
          "output_type": "display_data"
        }
      ],
      "source": [
        "cf = pd.crosstab(predict, test_labels, rownames=(['Predicted']), colnames=(['True']))\n",
        "sns.heatmap(cf, annot=True, fmt='d', cmap='Blues');"
      ]
    },
    {
      "cell_type": "code",
      "execution_count": null,
      "metadata": {
        "id": "TaPZMcj4h0d4"
      },
      "outputs": [],
      "source": [
        "with open(f'{MODEL_PATH}/svc_76_prep.txt', 'w') as file:\n",
        "    for item in predict.tolist():\n",
        "        file.write(f\"{item}\\n\")"
      ]
    },
    {
      "cell_type": "code",
      "execution_count": null,
      "metadata": {
        "colab": {
          "base_uri": "https://localhost:8080/"
        },
        "id": "lBBMH8sprA_L",
        "outputId": "ae54591e-2709-45c4-9257-09fad136f376"
      },
      "outputs": [
        {
          "data": {
            "text/plain": [
              "['/content/drive/MyDrive/DS108_FP/data_our/model_save/svc_76_prep_model.pkl']"
            ]
          },
          "execution_count": 36,
          "metadata": {},
          "output_type": "execute_result"
        }
      ],
      "source": [
        "joblib.dump(LR, f'{MODEL_PATH}/LR_74_prep_model.pkl')\n",
        "joblib.dump(svc, f'{MODEL_PATH}/svc_76_prep_model.pkl')"
      ]
    },
    {
      "cell_type": "markdown",
      "metadata": {
        "id": "MWei0aNHm2XD"
      },
      "source": [
        "# DL"
      ]
    },
    {
      "cell_type": "code",
      "execution_count": null,
      "metadata": {
        "id": "FkoKxkKdm2XE"
      },
      "outputs": [],
      "source": [
        "max_len = 128\n",
        "\n",
        "word_tokenizer = Tokenizer(oov_token=-1)\n",
        "word_tokenizer.fit_on_texts(train_df.cmt_col.values)\n",
        "\n",
        "word_to_index = word_tokenizer.word_index\n",
        "word_to_index['pad'] = 0\n",
        "word_to_index['unk'] = -1\n",
        "index_to_word = {i: w for w, i in word_to_index.items()}\n",
        "\n",
        "\n",
        "def encoding(X):\n",
        "    sentences = []\n",
        "    for t in X:\n",
        "        sentences.append(t)\n",
        "    X = word_tokenizer.texts_to_sequences(sentences)\n",
        "    X = pad_sequences(maxlen = max_len, sequences = X, padding = \"post\", value = word_to_index[\"pad\"])\n",
        "    return X\n",
        "\n",
        "X_train_encoded = encoding(train_text)\n",
        "X_dev_encoded = encoding(val_text)\n",
        "X_test_encoded = encoding(test_text)"
      ]
    },
    {
      "cell_type": "code",
      "execution_count": null,
      "metadata": {
        "colab": {
          "base_uri": "https://localhost:8080/"
        },
        "id": "ngQ9Fmsloq9a",
        "outputId": "5302645f-db71-4c53-a456-dd4b149004fb"
      },
      "outputs": [
        {
          "name": "stdout",
          "output_type": "stream",
          "text": [
            "Model: \"model_21\"\n",
            "_________________________________________________________________\n",
            " Layer (type)                Output Shape              Param #   \n",
            "=================================================================\n",
            " input_24 (InputLayer)       [(None, 128)]             0         \n",
            "                                                                 \n",
            " embedding_23 (Embedding)    (None, 128, 128)          669824    \n",
            "                                                                 \n",
            " bidirectional_48 (Bidirect  (None, 128, 100)          71600     \n",
            " ional)                                                          \n",
            "                                                                 \n",
            " bidirectional_49 (Bidirect  (None, 64)                34048     \n",
            " ional)                                                          \n",
            "                                                                 \n",
            " dense_48 (Dense)            (None, 3)                 195       \n",
            "                                                                 \n",
            "=================================================================\n",
            "Total params: 775667 (2.96 MB)\n",
            "Trainable params: 775667 (2.96 MB)\n",
            "Non-trainable params: 0 (0.00 Byte)\n",
            "_________________________________________________________________\n"
          ]
        }
      ],
      "source": [
        "num_words = len(word_to_index)\n",
        "embedding_dim = 128\n",
        "from tensorflow.keras.optimizers import Adam\n",
        "\n",
        "def create_bilstm_model():\n",
        "    input_layer = Input(shape=(max_len,))\n",
        "    embedding_layer = Embedding(num_words, embedding_dim, input_length=max_len)(input_layer)\n",
        "    bilstm_layer1 = Bidirectional(LSTM(50, dropout=0.2, return_sequences=True))(embedding_layer)\n",
        "    bilstm_layer2 = Bidirectional(LSTM(32, dropout=0.5, return_sequences=False))(bilstm_layer1)\n",
        "\n",
        "    output_layer = Dense(3, activation='softmax')(bilstm_layer2)\n",
        "    model = Model(inputs=input_layer, outputs=output_layer)\n",
        "    model.compile(loss='binary_crossentropy', optimizer=Adam(learning_rate = 0.002), metrics=['accuracy'])\n",
        "    return model\n",
        "model = create_bilstm_model()\n",
        "model.summary()"
      ]
    },
    {
      "cell_type": "code",
      "execution_count": null,
      "metadata": {
        "colab": {
          "base_uri": "https://localhost:8080/"
        },
        "id": "95OdZb1rm2XE",
        "outputId": "a768b38e-2af2-42e4-de87-c63055312cd1"
      },
      "outputs": [
        {
          "name": "stdout",
          "output_type": "stream",
          "text": [
            "Epoch 1/3\n",
            "162/162 [==============================] - 31s 108ms/step - loss: 0.5022 - accuracy: 0.5960 - val_loss: 0.4220 - val_accuracy: 0.7083\n",
            "Epoch 2/3\n",
            "162/162 [==============================] - 8s 51ms/step - loss: 0.3243 - accuracy: 0.7927 - val_loss: 0.3898 - val_accuracy: 0.7558\n",
            "Epoch 3/3\n",
            "162/162 [==============================] - 5s 33ms/step - loss: 0.2222 - accuracy: 0.8717 - val_loss: 0.4139 - val_accuracy: 0.7558\n"
          ]
        }
      ],
      "source": [
        "his = model.fit(X_train_encoded, to_categorical(train_labels, num_classes=3),\n",
        "          validation_data = (X_dev_encoded, to_categorical(val_labels, num_classes=3)),\n",
        "          batch_size=32, epochs = 3\n",
        ")"
      ]
    },
    {
      "cell_type": "code",
      "execution_count": null,
      "metadata": {
        "colab": {
          "base_uri": "https://localhost:8080/",
          "height": 494
        },
        "id": "yyFf1yBjD5rq",
        "outputId": "a36851c8-9c73-4a11-a2c3-b424c9080c33"
      },
      "outputs": [
        {
          "data": {
            "image/png": "[encoded data removed]",
            "text/plain": [
              "<Figure size 1500x500 with 1 Axes>"
            ]
          },
          "metadata": {},
          "output_type": "display_data"
        }
      ],
      "source": [
        "fig = plt.figure(figsize=(15, 5))\n",
        "plt.plot(his.history['loss'], linestyle='solid', marker='o', color='crimson', label='Train')\n",
        "plt.plot(his.history['val_loss'], linestyle='solid', marker='o', color='dodgerblue', label='Validation')\n",
        "plt.xlabel('Epochs', fontsize = 14)\n",
        "plt.ylabel('Loss',fontsize=14)\n",
        "plt.title('Loss', fontsize=15)\n",
        "plt.legend(loc='best')\n",
        "fig.savefig(f'{MODEL_PATH}/evaluation_DL.png', bbox_inches='tight')\n",
        "plt.show()"
      ]
    },
    {
      "cell_type": "code",
      "execution_count": null,
      "metadata": {
        "colab": {
          "base_uri": "https://localhost:8080/"
        },
        "id": "GVo0BFBAm2XF",
        "outputId": "f05538be-1d28-4a6e-cba5-705bb2674810"
      },
      "outputs": [
        {
          "name": "stdout",
          "output_type": "stream",
          "text": [
            "46/46 [==============================] - 2s 10ms/step\n",
            "              precision    recall  f1-score   support\n",
            "\n",
            "           0     0.8291    0.8278    0.8285       598\n",
            "           1     0.6694    0.6680    0.6687       482\n",
            "           2     0.7761    0.7801    0.7781       391\n",
            "\n",
            "    accuracy                         0.7627      1471\n",
            "   macro avg     0.7582    0.7586    0.7584      1471\n",
            "weighted avg     0.7627    0.7627    0.7627      1471\n",
            "\n"
          ]
        }
      ],
      "source": [
        "pred = model.predict(X_test_encoded)\n",
        "pred = np.argmax(pred, axis = -1)\n",
        "print(classification_report(pred, test_labels, digits = 4))"
      ]
    },
    {
      "cell_type": "code",
      "execution_count": null,
      "metadata": {
        "id": "mao-Xug2i0PN"
      },
      "outputs": [],
      "source": [
        "with open(f'{MODEL_PATH}/BiLSTM_76_prep.txt', 'w') as file:\n",
        "    for item in pred.tolist():\n",
        "        file.write(f\"{item}\\n\")"
      ]
    },
    {
      "cell_type": "code",
      "execution_count": null,
      "metadata": {
        "id": "9h-5QkDtqN33"
      },
      "outputs": [],
      "source": [
        "model.save_weights(f'{MODEL_PATH}/BiLSTM_76_weight.h5')"
      ]
    },
    {
      "cell_type": "markdown",
      "metadata": {
        "id": "_K3gsidpon2a"
      },
      "source": [
        "# PLM"
      ]
    },
    {
      "cell_type": "code",
      "execution_count": 39,
      "metadata": {
        "colab": {
          "base_uri": "https://localhost:8080/",
          "height": 356,
          "referenced_widgets": [
            "efdfb7ccfb2e4400b3efb2ef0419ee78",
            "10064f007e334d74b4555974f3287c65",
            "33aaf50cb7d94b839dcaaa9367c20fb0",
            "fd45234d8d7c40a7a03d53412df3aca1",
            "a7b9a222480b40fea938cc489eeaa881",
            "dfe71241b9b24149bddc5f2e6b092132",
            "ea21ef6a1d484dc4a8101986c060f346",
            "4e3efc6322ed402ba6b5e93e425ae11c",
            "d505e6a95f2d40d99ecdfc28df90df02",
            "13f6c508fa454bf8a003f2e63214e70b",
            "6cace6cdfc1a4c6390bbbeef44d2b0b8",
            "b99c81016aa94fc9a13cb09a7141f356",
            "53934147a0c94dc5bb7fac4f6567b38d",
            "e287087273974426bd08cdea992c08a3",
            "c8da7812556c43f197154a8076848044",
            "9cd381156c00408bbd5a15e11b8cd8a3",
            "ac5d5f8922b14413baaebb9f3c187944",
            "e0d8d6d3856747a890344667723b1e32",
            "e94d3b6250ab40bdac79945bda275ef8",
            "fcff5d804ed34811a219d373318d9429",
            "b905e42abf324bd199e04f3e55f96f73",
            "d102e33c778f43c48a4d70a40353eb94",
            "b3302a1f7dfd4c768fac6c7cc7cf076d",
            "3a9846e5412d401097cf0acfb96e0e0c",
            "d065d77eaeac4f70a23d334bc9797334",
            "84ed42c0008848ff93db92ad9227cbdb",
            "00c4b451a6d246e9852102b9ddfc7d40",
            "2e7aaf12eaa041e5a083881e523987b8",
            "11315354f9794803beeeaec243022a3a",
            "2465d59399b2453d8fcca562d3dd41eb",
            "623579cb58004d9d9cd0230dc68796b0",
            "5f01e311515341f88f10e32a40b6f80f",
            "b6e247d073a44d579c78e45a8f510b9c"
          ]
        },
        "id": "yWAMXHJav3fJ",
        "outputId": "1c3ff32e-2638-438f-f89d-b1d6816a8c88"
      },
      "outputs": [
        {
          "data": {
            "application/vnd.jupyter.widget-view+json": {
              "model_id": "efdfb7ccfb2e4400b3efb2ef0419ee78",
              "version_major": 2,
              "version_minor": 0
            },
            "text/plain": [
              "Generating train split: 0 examples [00:00, ? examples/s]"
            ]
          },
          "metadata": {},
          "output_type": "display_data"
        },
        {
          "data": {
            "application/vnd.jupyter.widget-view+json": {
              "model_id": "b99c81016aa94fc9a13cb09a7141f356",
              "version_major": 2,
              "version_minor": 0
            },
            "text/plain": [
              "Generating val split: 0 examples [00:00, ? examples/s]"
            ]
          },
          "metadata": {},
          "output_type": "display_data"
        },
        {
          "data": {
            "application/vnd.jupyter.widget-view+json": {
              "model_id": "b3302a1f7dfd4c768fac6c7cc7cf076d",
              "version_major": 2,
              "version_minor": 0
            },
            "text/plain": [
              "Generating test split: 0 examples [00:00, ? examples/s]"
            ]
          },
          "metadata": {},
          "output_type": "display_data"
        },
        {
          "data": {
            "text/plain": [
              "DatasetDict({\n",
              "    train: Dataset({\n",
              "        features: ['cmt_col', 'labels'],\n",
              "        num_rows: 5166\n",
              "    })\n",
              "    val: Dataset({\n",
              "        features: ['cmt_col', 'labels'],\n",
              "        num_rows: 738\n",
              "    })\n",
              "    test: Dataset({\n",
              "        features: ['cmt_col', 'labels'],\n",
              "        num_rows: 1476\n",
              "    })\n",
              "})"
            ]
          },
          "execution_count": 39,
          "metadata": {},
          "output_type": "execute_result"
        }
      ],
      "source": [
        "TRAIN_PATH = \"/content/drive/MyDrive/DS108_FP/Final_dataset/train_df.csv\"\n",
        "VAL_PATH = \"/content/drive/MyDrive/DS108_FP/Final_dataset/val_df.csv\"\n",
        "TEST_PATH = \"/content/drive/MyDrive/DS108_FP/Final_dataset/test_df.csv\"\n",
        "raw_datasets = load_dataset('csv', data_files={'train': TRAIN_PATH, 'val': VAL_PATH, 'test': TEST_PATH})\n",
        "raw_datasets"
      ]
    },
    {
      "cell_type": "code",
      "execution_count": 40,
      "metadata": {
        "colab": {
          "base_uri": "https://localhost:8080/"
        },
        "id": "1CWNGFE2wMnt",
        "outputId": "8c3fdc25-f90f-4721-b23e-d6ba20fc14ee"
      },
      "outputs": [
        {
          "name": "stdout",
          "output_type": "stream",
          "text": [
            "Train outputs: (5166, 1, 3)\n",
            "Validate outputs: (738, 1, 3)\n",
            "Test outputs: (1476, 1, 3)\n"
          ]
        },
        {
          "data": {
            "text/plain": [
              "array([[1, 0, 0]], dtype=uint8)"
            ]
          },
          "execution_count": 40,
          "metadata": {},
          "output_type": "execute_result"
        }
      ],
      "source": [
        "def make_outputs(df):\n",
        "    outputs = []\n",
        "    for row in range(len(df)):\n",
        "        row_one_hot = []\n",
        "        for col in range(1, len(df.columns)):\n",
        "            labels = df.iloc[row, col]\n",
        "            if   labels == 0: one_hot = [1, 0, 0] # clean\n",
        "            elif labels == 1: one_hot = [0, 1, 0] # offensive\n",
        "            elif labels == 2: one_hot = [0, 0, 1] # hate\n",
        "            row_one_hot.append(one_hot)\n",
        "        outputs.append(row_one_hot)\n",
        "    return np.array(outputs, dtype='uint8')\n",
        "\n",
        "y_train = make_outputs(train_df)\n",
        "y_val = make_outputs(val_df)\n",
        "y_test = make_outputs(test_df)\n",
        "\n",
        "print('Train outputs:', y_train.shape)\n",
        "print('Validate outputs:', y_val.shape)\n",
        "print('Test outputs:', y_test.shape)\n",
        "y_train[1]"
      ]
    },
    {
      "cell_type": "code",
      "execution_count": null,
      "metadata": {
        "colab": {
          "base_uri": "https://localhost:8080/"
        },
        "id": "_nuNew0Zvp0g",
        "outputId": "94fe998a-267a-4e13-a308-f104e806487a"
      },
      "outputs": [
        {
          "data": {
            "text/plain": [
              "{'xlm-roberta-base': 512,\n",
              " 'xlm-roberta-large': 512,\n",
              " 'xlm-roberta-large-finetuned-conll02-dutch': 512,\n",
              " 'xlm-roberta-large-finetuned-conll02-spanish': 512,\n",
              " 'xlm-roberta-large-finetuned-conll03-english': 512,\n",
              " 'xlm-roberta-large-finetuned-conll03-german': 512}"
            ]
          },
          "execution_count": 8,
          "metadata": {},
          "output_type": "execute_result"
        }
      ],
      "source": [
        "PRETRAINED_MODEL = 'uitnlp/visobert'\n",
        "\n",
        "tokenizer = AutoTokenizer.from_pretrained(PRETRAINED_MODEL)\n",
        "tokenizer.max_model_input_sizes"
      ]
    },
    {
      "cell_type": "code",
      "execution_count": null,
      "metadata": {
        "colab": {
          "base_uri": "https://localhost:8080/",
          "height": 86,
          "referenced_widgets": [
            "16a2925073214aed828a146dd0b1e050",
            "da11601c54cf42e5a7bf6654c9ca62bd",
            "1f2a2018f88f4f4a88c9c6b91d848c41",
            "3be9ffb455604cafa12bdec836d5b010",
            "fcbdb84c8ca74f9a8df9cffaa8b5f7e4",
            "ab59b87bdeb74bfa8c20e90debbb02d8",
            "486fb4f04e354a1e98b5c10deafec9db",
            "3ff4b0dd9734443083580bc23f3ec9d1",
            "bbbe6c711d8449348d97b82ded6dc95f",
            "a3e615805a004b05bbe25ddec72993fd",
            "2e596a3bc53b4bb1b9a5c0d4cdad167f"
          ]
        },
        "id": "b1kT8Iwawzdk",
        "outputId": "140f1630-073c-4e51-e4cf-f4c8c9d6f1f6"
      },
      "outputs": [
        {
          "data": {
            "application/vnd.jupyter.widget-view+json": {
              "model_id": "16a2925073214aed828a146dd0b1e050",
              "version_major": 2,
              "version_minor": 0
            },
            "text/plain": [
              "Map:   0%|          | 0/1471 [00:00<?, ? examples/s]"
            ]
          },
          "metadata": {},
          "output_type": "display_data"
        },
        {
          "name": "stdout",
          "output_type": "stream",
          "text": [
            "input_ids of sentence 1484: [0, 692, 564, 203, 1273, 3611, 2, 1, 1, 1, 1, 1, 1, 1, 1, 1, 1, 1, 1, 1, 1, 1, 1, 1, 1, 1, 1, 1, 1, 1, 1, 1, 1, 1, 1, 1, 1, 1, 1, 1, 1, 1, 1, 1, 1, 1, 1, 1, 1, 1, 1, 1, 1, 1, 1, 1, 1, 1, 1, 1, 1, 1, 1, 1, 1, 1, 1, 1, 1, 1, 1, 1, 1, 1, 1, 1, 1, 1, 1, 1, 1, 1, 1, 1, 1, 1, 1, 1, 1, 1, 1, 1, 1, 1, 1, 1, 1, 1, 1, 1, 1, 1, 1, 1, 1, 1, 1, 1, 1, 1, 1, 1, 1, 1, 1, 1, 1, 1, 1, 1, 1, 1, 1, 1, 1, 1, 1, 1, 1, 1, 1, 1, 1, 1, 1, 1, 1, 1, 1, 1, 1, 1, 1, 1, 1, 1, 1, 1, 1, 1, 1, 1, 1, 1, 1, 1, 1, 1, 1, 1, 1, 1, 1, 1, 1, 1, 1, 1, 1, 1, 1, 1, 1, 1, 1, 1, 1, 1, 1, 1, 1, 1, 1, 1, 1, 1, 1, 1, 1, 1, 1, 1, 1, 1, 1, 1, 1, 1, 1, 1, 1, 1, 1, 1, 1, 1, 1, 1, 1, 1, 1, 1, 1, 1, 1, 1, 1, 1, 1, 1, 1, 1, 1, 1, 1, 1, 1, 1, 1, 1, 1, 1, 1, 1, 1, 1, 1, 1, 1, 1, 1, 1, 1, 1, 1, 1, 1, 1, 1, 1, 1, 1, 1, 1, 1, 1]\n"
          ]
        }
      ],
      "source": [
        "def tokenize_function(dataset):\n",
        "    clean_texts = list(dataset['cmt_col'])\n",
        "    return tokenizer(clean_texts, max_length=256, padding='max_length', truncation=True)\n",
        "\n",
        "tokenized_datasets = raw_datasets.map(tokenize_function, batched=True)\n",
        "print('input_ids of sentence 1484:', tokenized_datasets['train'][1484]['input_ids'])"
      ]
    },
    {
      "cell_type": "code",
      "execution_count": null,
      "metadata": {
        "id": "bqZPmWmpw7Kk"
      },
      "outputs": [],
      "source": [
        "MAX_SEQUENCE_LENGTH = 256\n",
        "BATCH_SIZE = 18\n",
        "\n",
        "STEPS_PER_EPOCH = (len(raw_datasets['train']) // BATCH_SIZE)\n",
        "VALIDATION_STEPS = (len(raw_datasets['val']) // BATCH_SIZE)\n",
        "EPOCHS = 15"
      ]
    },
    {
      "cell_type": "code",
      "execution_count": null,
      "metadata": {
        "colab": {
          "base_uri": "https://localhost:8080/"
        },
        "id": "gBcLD2trxEH8",
        "outputId": "69e636ad-b993-4731-af9f-9848cb8cc522"
      },
      "outputs": [
        {
          "data": {
            "text/plain": [
              "<_PrefetchDataset element_spec=({'input_ids': TensorSpec(shape=(None, 256), dtype=tf.int64, name=None), 'attention_mask': TensorSpec(shape=(None, 256), dtype=tf.int64, name=None)}, TensorSpec(shape=(None, 3), dtype=tf.uint8, name=None))>"
            ]
          },
          "execution_count": 11,
          "metadata": {},
          "output_type": "execute_result"
        }
      ],
      "source": [
        "def to_tensorflow_format(tokenized_dataset):\n",
        "    features = tokenized_dataset.features\n",
        "    return tokenized_dataset.remove_columns(list(features)[:-2]).with_format('tensorflow')\n",
        "\n",
        "def preprocess_tokenized_dataset(tokenized_dataset, tokenizer, labels, batch_size, shuffle=False):\n",
        "    tf_dataset = to_tensorflow_format(tokenized_dataset)\n",
        "    features = {x: tf_dataset[x] for x in tokenizer.model_input_names}\n",
        "    labels = labels.reshape(len(labels), -1)\n",
        "\n",
        "    tf_dataset = Dataset.from_tensor_slices((features, labels))\n",
        "    if shuffle: tf_dataset = tf_dataset.shuffle(buffer_size=len(tf_dataset))\n",
        "    return tf_dataset.batch(batch_size).cache().prefetch(buffer_size=tf.data.AUTOTUNE)\n",
        "\n",
        "train_tf_dataset = preprocess_tokenized_dataset(tokenized_datasets['train'], tokenizer, y_train, BATCH_SIZE, shuffle=True)\n",
        "val_tf_dataset = preprocess_tokenized_dataset(tokenized_datasets['val'], tokenizer, y_val, BATCH_SIZE)\n",
        "test_tf_dataset = preprocess_tokenized_dataset(tokenized_datasets['test'],  tokenizer, y_test, BATCH_SIZE)\n",
        "train_tf_dataset"
      ]
    },
    {
      "cell_type": "code",
      "execution_count": null,
      "metadata": {
        "colab": {
          "base_uri": "https://localhost:8080/",
          "height": 238
        },
        "id": "IXtRvMy_xKxw",
        "outputId": "c90ac022-d440-4986-e132-ce1dddb766c1"
      },
      "outputs": [
        {
          "data": {
            "text/html": [
              "<div style=\"max-width:800px; border: 1px solid var(--colab-border-color);\"><style>\n",
              "      pre.function-repr-contents {\n",
              "        overflow-x: auto;\n",
              "        padding: 8px 12px;\n",
              "        max-height: 500px;\n",
              "      }\n",
              "\n",
              "      pre.function-repr-contents.function-repr-contents-collapsed {\n",
              "        cursor: pointer;\n",
              "        max-height: 100px;\n",
              "      }\n",
              "    </style>\n",
              "    <pre style=\"white-space: initial; background:\n",
              "         var(--colab-secondary-surface-color); padding: 8px 12px;\n",
              "         border-bottom: 1px solid var(--colab-border-color);\"><b>keras.src.optimizers.adam.Adam</b><br/>def __init__(learning_rate=0.001, beta_1=0.9, beta_2=0.999, epsilon=1e-07, amsgrad=False, weight_decay=None, clipnorm=None, clipvalue=None, global_clipnorm=None, use_ema=False, ema_momentum=0.99, ema_overwrite_frequency=None, loss_scale_factor=None, gradient_accumulation_steps=None, name=&#x27;adam&#x27;, **kwargs)</pre><pre class=\"function-repr-contents function-repr-contents-collapsed\" style=\"\"><a class=\"filepath\" style=\"display:none\" href=\"#\">/usr/local/lib/python3.10/dist-packages/keras/src/optimizers/adam.py</a>Optimizer that implements the Adam algorithm.\n",
              "\n",
              "Adam optimization is a stochastic gradient descent method that is based on\n",
              "adaptive estimation of first-order and second-order moments.\n",
              "\n",
              "According to\n",
              "[Kingma et al., 2014](http://arxiv.org/abs/1412.6980),\n",
              "the method is &quot;*computationally\n",
              "efficient, has little memory requirement, invariant to diagonal rescaling of\n",
              "gradients, and is well suited for problems that are large in terms of\n",
              "data/parameters*&quot;.\n",
              "\n",
              "Args:\n",
              "    learning_rate: A float, a\n",
              "        `keras.optimizers.schedules.LearningRateSchedule` instance, or\n",
              "        a callable that takes no arguments and returns the actual value to\n",
              "        use. The learning rate. Defaults to `0.001`.\n",
              "    beta_1: A float value or a constant float tensor, or a callable\n",
              "        that takes no arguments and returns the actual value to use. The\n",
              "        exponential decay rate for the 1st moment estimates. Defaults to\n",
              "        `0.9`.\n",
              "    beta_2: A float value or a constant float tensor, or a callable\n",
              "        that takes no arguments and returns the actual value to use. The\n",
              "        exponential decay rate for the 2nd moment estimates. Defaults to\n",
              "        `0.999`.\n",
              "    epsilon: A small constant for numerical stability. This epsilon is\n",
              "        &quot;epsilon hat&quot; in the Kingma and Ba paper (in the formula just before\n",
              "        Section 2.1), not the epsilon in Algorithm 1 of the paper. Defaults\n",
              "        to `1e-7`.\n",
              "    amsgrad: Boolean. Whether to apply AMSGrad variant of this algorithm\n",
              "        from the paper &quot;On the Convergence of Adam and beyond&quot;. Defaults\n",
              "        to `False`.\n",
              "    name: String. The name to use\n",
              "        for momentum accumulator weights created by\n",
              "        the optimizer.\n",
              "    weight_decay: Float. If set, weight decay is applied.\n",
              "    clipnorm: Float. If set, the gradient of each weight is individually\n",
              "        clipped so that its norm is no higher than this value.\n",
              "    clipvalue: Float. If set, the gradient of each weight is clipped to be\n",
              "        no higher than this value.\n",
              "    global_clipnorm: Float. If set, the gradient of all weights is clipped\n",
              "        so that their global norm is no higher than this value.\n",
              "    use_ema: Boolean, defaults to `False`.\n",
              "        If `True`, exponential moving average\n",
              "        (EMA) is applied. EMA consists of computing an exponential moving\n",
              "        average of the weights of the model (as the weight values change\n",
              "        after each training batch), and periodically overwriting the\n",
              "        weights with their moving average.\n",
              "    ema_momentum: Float, defaults to 0.99. Only used if `use_ema=True`.\n",
              "        This is the momentum to use when computing\n",
              "        the EMA of the model&#x27;s weights:\n",
              "        `new_average = ema_momentum * old_average + (1 - ema_momentum) *\n",
              "        current_variable_value`.\n",
              "    ema_overwrite_frequency: Int or None, defaults to None. Only used if\n",
              "        `use_ema=True`. Every `ema_overwrite_frequency` steps of iterations,\n",
              "        we overwrite the model variable by its moving average.\n",
              "        If None, the optimizer\n",
              "        does not overwrite model variables in the middle of training,\n",
              "        and you need to explicitly overwrite the variables\n",
              "        at the end of training by calling\n",
              "        `optimizer.finalize_variable_values()` (which updates the model\n",
              "        variables in-place). When using the built-in `fit()` training loop,\n",
              "        this happens automatically after the last epoch,\n",
              "        and you don&#x27;t need to do anything.\n",
              "    loss_scale_factor: Float or `None`. If a float, the scale factor will\n",
              "        be multiplied the loss before computing gradients, and the inverse\n",
              "        of the scale factor will be multiplied by the gradients before\n",
              "        updating variables. Useful for preventing underflow during\n",
              "        mixed precision training. Alternately,\n",
              "        `keras.optimizers.LossScaleOptimizer` will\n",
              "        automatically set a loss scale factor.\n",
              "    gradient_accumulation_steps: Int or `None`. If an int, model &amp; optimizer\n",
              "        variables will not be updated at every step; instead they will be\n",
              "        updated every `gradient_accumulation_steps` steps, using the average\n",
              "        value of the gradients since the last update. This is known as\n",
              "        &quot;gradient accumulation&quot;. This can be useful\n",
              "        when your batch size is very small, in order to reduce gradient\n",
              "        noise at each update step.</pre>\n",
              "      <script>\n",
              "      if (google.colab.kernel.accessAllowed && google.colab.files && google.colab.files.view) {\n",
              "        for (const element of document.querySelectorAll('.filepath')) {\n",
              "          element.style.display = 'block'\n",
              "          element.onclick = (event) => {\n",
              "            event.preventDefault();\n",
              "            event.stopPropagation();\n",
              "            google.colab.files.view(element.textContent, 6);\n",
              "          };\n",
              "        }\n",
              "      }\n",
              "      for (const element of document.querySelectorAll('.function-repr-contents')) {\n",
              "        element.onclick = (event) => {\n",
              "          event.preventDefault();\n",
              "          event.stopPropagation();\n",
              "          element.classList.toggle('function-repr-contents-collapsed');\n",
              "        };\n",
              "      }\n",
              "      </script>\n",
              "      </div>"
            ],
            "text/plain": [
              "keras.src.optimizers.adam.Adam"
            ]
          },
          "execution_count": 55,
          "metadata": {},
          "output_type": "execute_result"
        }
      ],
      "source": [
        "def create_model(optimizer):\n",
        "    inputs = {\n",
        "        'input_ids'     : tf.keras.layers.Input((256,), dtype='int64', name='input_ids'),\n",
        "        #'token_type_ids': Input((MAX_SEQUENCE_LENGTH,), dtype='int32', name='token_type_ids'),\n",
        "        'attention_mask': tf.keras.layers.Input((256,), dtype='int64', name='attention_mask'),\n",
        "    }\n",
        "    pretrained_bert = TFAutoModel.from_pretrained(PRETRAINED_MODEL, output_hidden_states=True, from_pt=True)\n",
        "    pretrained_bert.trainable = False\n",
        "    hidden_states = pretrained_bert(inputs).hidden_states\n",
        "\n",
        "    pooled_output = hidden_states[-1][:, 0, :]\n",
        "    x = Dropout(0.2)(pooled_output)\n",
        "\n",
        "    out_dense = Dense(128, 'relu', name = \"out_dense\")(x)\n",
        "\n",
        "    outputs = Dense(\n",
        "            units = 3,\n",
        "            activation = 'softmax',\n",
        "            name = 'output_layer',\n",
        "            )(out_dense)\n",
        "\n",
        "    model = tf.keras.Model(inputs=inputs, outputs=outputs)\n",
        "    model.compile(optimizer=optimizer, loss='binary_crossentropy', metrics = ['accuracy'])\n",
        "    return model\n",
        "\n",
        "optimizer = Adam(learning_rate=2e-3)\n",
        "type(optimizer)"
      ]
    },
    {
      "cell_type": "code",
      "execution_count": null,
      "metadata": {
        "id": "TxIIVYh6SyQ5"
      },
      "outputs": [],
      "source": [
        "# Keeps initial learning rate for first 6 epochs decreases it exponentially  after that.\n",
        "def scheduler(epoch, lr):\n",
        "    if epoch < 6: return lr\n",
        "    return lr * tf.math.exp(-0.1)\n",
        "schedule_lr_callback = LearningRateScheduler(scheduler, verbose=1)\n",
        "\n",
        "# Reduce the learning rate once learning stagnates => new_lr = lr * factor.\n",
        "reduce_lr_callback = ReduceLROnPlateau(monitor='val_loss', patience=1, factor=0.2, verbose=1)"
      ]
    },
    {
      "cell_type": "code",
      "execution_count": null,
      "metadata": {
        "id": "gZgFZ1wVd7rh"
      },
      "outputs": [],
      "source": [
        "model = create_model(optimizer)"
      ]
    },
    {
      "cell_type": "code",
      "execution_count": null,
      "metadata": {
        "id": "xSADc-L74K1s"
      },
      "outputs": [],
      "source": [
        "history = model.fit(\n",
        "    train_tf_dataset.repeat(),\n",
        "    validation_data = val_tf_dataset.repeat(),\n",
        "    validation_steps = VALIDATION_STEPS,\n",
        "    steps_per_epoch = STEPS_PER_EPOCH,\n",
        "    epochs = EPOCHS,\n",
        "    callbacks = [\n",
        "        schedule_lr_callback,\n",
        "        # reduce_lr_callback,\n",
        "    ],\n",
        "    verbose = 1\n",
        ")"
      ]
    },
    {
      "cell_type": "code",
      "execution_count": null,
      "metadata": {
        "id": "x5JXkqGLVIFk"
      },
      "outputs": [],
      "source": [
        "model.save_weights('/content/drive/MyDrive/DS108_FP/save_model/viso_noprep_80.h5')"
      ]
    },
    {
      "cell_type": "code",
      "execution_count": null,
      "metadata": {
        "colab": {
          "base_uri": "https://localhost:8080/",
          "height": 348
        },
        "id": "aD6_6l5r-DLx",
        "outputId": "b043b44f-ea31-4c67-a886-eb3ceb1a8f4b"
      },
      "outputs": [
        {
          "data": {
            "image/png": "[encoded data removed]",
            "text/plain": [
              "<Figure size 1500x500 with 1 Axes>"
            ]
          },
          "metadata": {},
          "output_type": "display_data"
        }
      ],
      "source": [
        "fig = plt.figure(figsize=(15, 5))\n",
        "plt.plot(history.history['loss'], linestyle='solid', marker='o', color='crimson', label='Train')\n",
        "plt.plot(history.history['val_loss'], linestyle='solid', marker='o', color='dodgerblue', label='Validation')\n",
        "plt.xlabel('Epochs', fontsize = 14)\n",
        "plt.ylabel('Loss',fontsize=14)\n",
        "plt.title('Loss', fontsize=15)\n",
        "plt.legend(loc='best')\n",
        "fig.savefig(f'{MODEL_PATH}/viso_noprep.png', bbox_inches='tight')\n",
        "plt.show()"
      ]
    },
    {
      "cell_type": "code",
      "execution_count": null,
      "metadata": {
        "id": "3PXBtLotI2CK"
      },
      "outputs": [],
      "source": [
        "y_test_argmax = np.argmax(y_test, axis=-1)\n",
        "y_pred = model.predict(test_tf_dataset, batch_size=BATCH_SIZE, verbose=1)\n",
        "y_pred_arg = np.argmax(y_pred, axis=-1)"
      ]
    },
    {
      "cell_type": "markdown",
      "metadata": {
        "id": "ythSqVqd-NyS"
      },
      "source": [
        "# Demo\n"
      ]
    },
    {
      "cell_type": "markdown",
      "metadata": {
        "id": "VNWVtSxsyzuv"
      },
      "source": [
        "* Load model"
      ]
    },
    {
      "cell_type": "code",
      "execution_count": null,
      "metadata": {
        "colab": {
          "base_uri": "https://localhost:8080/"
        },
        "id": "hvAFcBn_vIHx",
        "outputId": "45dbe8c5-3fe5-4733-cc95-ec6d401d756a"
      },
      "outputs": [
        {
          "name": "stderr",
          "output_type": "stream",
          "text": [
            "Some weights of the PyTorch model were not used when initializing the TF 2.0 model TFXLMRobertaModel: ['lm_head.bias', 'roberta.embeddings.position_ids', 'lm_head.layer_norm.weight', 'lm_head.layer_norm.bias', 'lm_head.dense.bias', 'lm_head.dense.weight']\n",
            "- This IS expected if you are initializing TFXLMRobertaModel from a PyTorch model trained on another task or with another architecture (e.g. initializing a TFBertForSequenceClassification model from a BertForPreTraining model).\n",
            "- This IS NOT expected if you are initializing TFXLMRobertaModel from a PyTorch model that you expect to be exactly identical (e.g. initializing a TFBertForSequenceClassification model from a BertForSequenceClassification model).\n",
            "Some weights or buffers of the TF 2.0 model TFXLMRobertaModel were not initialized from the PyTorch model and are newly initialized: ['roberta.pooler.dense.weight', 'roberta.pooler.dense.bias']\n",
            "You should probably TRAIN this model on a down-stream task to be able to use it for predictions and inference.\n"
          ]
        }
      ],
      "source": [
        "# ML\n",
        "reloaded_LR_model = joblib.load(f'{MODEL_PATH}/LR_74_prep_model.pkl')\n",
        "reloaded_svc_model = joblib.load(f'{MODEL_PATH}/svc_76_prep_model.pkl')\n",
        "# DL\n",
        "reloaded_DL_model = create_bilstm_model()\n",
        "reloaded_DL_model.load_weights(f'{MODEL_PATH}/BiLSTM_76_weight.h5')\n",
        "# PLM\n",
        "reloaded_PLM_model = create_model(optimizer)\n",
        "reloaded_PLM_model.load_weights(f'{MODEL_PATH}/viso_noprep_80.h5')"
      ]
    },
    {
      "cell_type": "markdown",
      "metadata": {
        "id": "KCfCWbqhy2QZ"
      },
      "source": [
        "* Demo"
      ]
    },
    {
      "cell_type": "code",
      "execution_count": null,
      "metadata": {
        "colab": {
          "base_uri": "https://localhost:8080/"
        },
        "id": "Ktp0b4ztDLmI",
        "outputId": "e779f9ba-df22-4b8e-8dce-9238d9948fb8"
      },
      "outputs": [
        {
          "name": "stdout",
          "output_type": "stream",
          "text": [
            "Enter your sentence: thằng bê đê không biết nhục à?\n",
            "Logistic Regression: HATE SPEECH\n",
            "Support Vector Machine: HATE SPEECH\n",
            "BiLSTM: OFFENSIVE\n",
            "Visobert: HATE SPEECH\n"
          ]
        }
      ],
      "source": [
        "import warnings\n",
        "warnings.filterwarnings('ignore')\n",
        "\n",
        "def predict(model, input, batch_szie = 1, verbose = 0):\n",
        "    pred = model.predict(input, batch_size = batch_szie, verbose = verbose)\n",
        "    pred = np.argmax(pred, axis=-1)\n",
        "    return pred\n",
        "\n",
        "def transform_labels(predict):\n",
        "    if predict == 0:\n",
        "        return \"CLEAN\"\n",
        "    elif predict == 1:\n",
        "        return \"OFFENSIVE\"\n",
        "    else:\n",
        "        return \"HATE SPEECH\"\n",
        "\n",
        "\n",
        "text = input('Enter your sentence: ')\n",
        "# ML\n",
        "text_pre = text_preprocess(text)\n",
        "tf_text = tfvec.transform([text_pre])\n",
        "\n",
        "LR_pred = reloaded_LR_model.predict(tf_text)\n",
        "SVM_pred = reloaded_svc_model.predict(tf_text)\n",
        "\n",
        "# DL\n",
        "text_pre = text_preprocess(text)\n",
        "DL_pred = predict(reloaded_DL_model, encoding([text_pre]))\n",
        "\n",
        "# PLM\n",
        "text_pre = text\n",
        "tokenized_input = tokenizer(text_pre, max_length = 256 , padding = 'max_length', truncation = True)\n",
        "features = {x: [[tokenized_input[x]]] for x in tokenizer.model_input_names}\n",
        "\n",
        "PLM_pred = predict(reloaded_PLM_model, Dataset.from_tensor_slices(features))\n",
        "\n",
        "\n",
        "print(f\"Logistic Regression: {transform_labels(LR_pred)}\")\n",
        "print(f\"Support Vector Machine: {transform_labels(SVM_pred)}\")\n",
        "print(f\"BiLSTM: {transform_labels(DL_pred)}\")\n",
        "print(f\"Visobert: {transform_labels(PLM_pred)}\")\n"
      ]
    }
  ],
  "metadata": {
    "colab": {
      "provenance": []
    },
    "kernelspec": {
      "display_name": "Python 3",
      "name": "python3"
    },
    "language_info": {
      "codemirror_mode": {
        "name": "ipython",
        "version": 3
      },
      "file_extension": ".py",
      "mimetype": "text/x-python",
      "name": "python",
      "nbconvert_exporter": "python",
      "pygments_lexer": "ipython3",
      "version": "3.10.2"
    },
    "widgets": {
      "application/vnd.jupyter.widget-state+json": {
        "00c4b451a6d246e9852102b9ddfc7d40": {
          "model_module": "@jupyter-widgets/base",
          "model_module_version": "1.2.0",
          "model_name": "LayoutModel",
          "state": {
            "_model_module": "@jupyter-widgets/base",
            "_model_module_version": "1.2.0",
            "_model_name": "LayoutModel",
            "_view_count": null,
            "_view_module": "@jupyter-widgets/base",
            "_view_module_version": "1.2.0",
            "_view_name": "LayoutView",
            "align_content": null,
            "align_items": null,
            "align_self": null,
            "border": null,
            "bottom": null,
            "display": null,
            "flex": null,
            "flex_flow": null,
            "grid_area": null,
            "grid_auto_columns": null,
            "grid_auto_flow": null,
            "grid_auto_rows": null,
            "grid_column": null,
            "grid_gap": null,
            "grid_row": null,
            "grid_template_areas": null,
            "grid_template_columns": null,
            "grid_template_rows": null,
            "height": null,
            "justify_content": null,
            "justify_items": null,
            "left": null,
            "margin": null,
            "max_height": null,
            "max_width": null,
            "min_height": null,
            "min_width": null,
            "object_fit": null,
            "object_position": null,
            "order": null,
            "overflow": null,
            "overflow_x": null,
            "overflow_y": null,
            "padding": null,
            "right": null,
            "top": null,
            "visibility": null,
            "width": null
          }
        },
        "10064f007e334d74b4555974f3287c65": {
          "model_module": "@jupyter-widgets/controls",
          "model_module_version": "1.5.0",
          "model_name": "HTMLModel",
          "state": {
            "_dom_classes": [],
            "_model_module": "@jupyter-widgets/controls",
            "_model_module_version": "1.5.0",
            "_model_name": "HTMLModel",
            "_view_count": null,
            "_view_module": "@jupyter-widgets/controls",
            "_view_module_version": "1.5.0",
            "_view_name": "HTMLView",
            "description": "",
            "description_tooltip": null,
            "layout": "IPY_MODEL_dfe71241b9b24149bddc5f2e6b092132",
            "placeholder": "​",
            "style": "IPY_MODEL_ea21ef6a1d484dc4a8101986c060f346",
            "value": "Generating train split: "
          }
        },
        "11315354f9794803beeeaec243022a3a": {
          "model_module": "@jupyter-widgets/controls",
          "model_module_version": "1.5.0",
          "model_name": "DescriptionStyleModel",
          "state": {
            "_model_module": "@jupyter-widgets/controls",
            "_model_module_version": "1.5.0",
            "_model_name": "DescriptionStyleModel",
            "_view_count": null,
            "_view_module": "@jupyter-widgets/base",
            "_view_module_version": "1.2.0",
            "_view_name": "StyleView",
            "description_width": ""
          }
        },
        "13f6c508fa454bf8a003f2e63214e70b": {
          "model_module": "@jupyter-widgets/base",
          "model_module_version": "1.2.0",
          "model_name": "LayoutModel",
          "state": {
            "_model_module": "@jupyter-widgets/base",
            "_model_module_version": "1.2.0",
            "_model_name": "LayoutModel",
            "_view_count": null,
            "_view_module": "@jupyter-widgets/base",
            "_view_module_version": "1.2.0",
            "_view_name": "LayoutView",
            "align_content": null,
            "align_items": null,
            "align_self": null,
            "border": null,
            "bottom": null,
            "display": null,
            "flex": null,
            "flex_flow": null,
            "grid_area": null,
            "grid_auto_columns": null,
            "grid_auto_flow": null,
            "grid_auto_rows": null,
            "grid_column": null,
            "grid_gap": null,
            "grid_row": null,
            "grid_template_areas": null,
            "grid_template_columns": null,
            "grid_template_rows": null,
            "height": null,
            "justify_content": null,
            "justify_items": null,
            "left": null,
            "margin": null,
            "max_height": null,
            "max_width": null,
            "min_height": null,
            "min_width": null,
            "object_fit": null,
            "object_position": null,
            "order": null,
            "overflow": null,
            "overflow_x": null,
            "overflow_y": null,
            "padding": null,
            "right": null,
            "top": null,
            "visibility": null,
            "width": null
          }
        },
        "16a2925073214aed828a146dd0b1e050": {
          "model_module": "@jupyter-widgets/controls",
          "model_module_version": "1.5.0",
          "model_name": "HBoxModel",
          "state": {
            "_dom_classes": [],
            "_model_module": "@jupyter-widgets/controls",
            "_model_module_version": "1.5.0",
            "_model_name": "HBoxModel",
            "_view_count": null,
            "_view_module": "@jupyter-widgets/controls",
            "_view_module_version": "1.5.0",
            "_view_name": "HBoxView",
            "box_style": "",
            "children": [
              "IPY_MODEL_da11601c54cf42e5a7bf6654c9ca62bd",
              "IPY_MODEL_1f2a2018f88f4f4a88c9c6b91d848c41",
              "IPY_MODEL_3be9ffb455604cafa12bdec836d5b010"
            ],
            "layout": "IPY_MODEL_fcbdb84c8ca74f9a8df9cffaa8b5f7e4"
          }
        },
        "1f2a2018f88f4f4a88c9c6b91d848c41": {
          "model_module": "@jupyter-widgets/controls",
          "model_module_version": "1.5.0",
          "model_name": "FloatProgressModel",
          "state": {
            "_dom_classes": [],
            "_model_module": "@jupyter-widgets/controls",
            "_model_module_version": "1.5.0",
            "_model_name": "FloatProgressModel",
            "_view_count": null,
            "_view_module": "@jupyter-widgets/controls",
            "_view_module_version": "1.5.0",
            "_view_name": "ProgressView",
            "bar_style": "success",
            "description": "",
            "description_tooltip": null,
            "layout": "IPY_MODEL_3ff4b0dd9734443083580bc23f3ec9d1",
            "max": 1471,
            "min": 0,
            "orientation": "horizontal",
            "style": "IPY_MODEL_bbbe6c711d8449348d97b82ded6dc95f",
            "value": 1471
          }
        },
        "2465d59399b2453d8fcca562d3dd41eb": {
          "model_module": "@jupyter-widgets/base",
          "model_module_version": "1.2.0",
          "model_name": "LayoutModel",
          "state": {
            "_model_module": "@jupyter-widgets/base",
            "_model_module_version": "1.2.0",
            "_model_name": "LayoutModel",
            "_view_count": null,
            "_view_module": "@jupyter-widgets/base",
            "_view_module_version": "1.2.0",
            "_view_name": "LayoutView",
            "align_content": null,
            "align_items": null,
            "align_self": null,
            "border": null,
            "bottom": null,
            "display": null,
            "flex": null,
            "flex_flow": null,
            "grid_area": null,
            "grid_auto_columns": null,
            "grid_auto_flow": null,
            "grid_auto_rows": null,
            "grid_column": null,
            "grid_gap": null,
            "grid_row": null,
            "grid_template_areas": null,
            "grid_template_columns": null,
            "grid_template_rows": null,
            "height": null,
            "justify_content": null,
            "justify_items": null,
            "left": null,
            "margin": null,
            "max_height": null,
            "max_width": null,
            "min_height": null,
            "min_width": null,
            "object_fit": null,
            "object_position": null,
            "order": null,
            "overflow": null,
            "overflow_x": null,
            "overflow_y": null,
            "padding": null,
            "right": null,
            "top": null,
            "visibility": null,
            "width": "20px"
          }
        },
        "2e596a3bc53b4bb1b9a5c0d4cdad167f": {
          "model_module": "@jupyter-widgets/controls",
          "model_module_version": "1.5.0",
          "model_name": "DescriptionStyleModel",
          "state": {
            "_model_module": "@jupyter-widgets/controls",
            "_model_module_version": "1.5.0",
            "_model_name": "DescriptionStyleModel",
            "_view_count": null,
            "_view_module": "@jupyter-widgets/base",
            "_view_module_version": "1.2.0",
            "_view_name": "StyleView",
            "description_width": ""
          }
        },
        "2e7aaf12eaa041e5a083881e523987b8": {
          "model_module": "@jupyter-widgets/base",
          "model_module_version": "1.2.0",
          "model_name": "LayoutModel",
          "state": {
            "_model_module": "@jupyter-widgets/base",
            "_model_module_version": "1.2.0",
            "_model_name": "LayoutModel",
            "_view_count": null,
            "_view_module": "@jupyter-widgets/base",
            "_view_module_version": "1.2.0",
            "_view_name": "LayoutView",
            "align_content": null,
            "align_items": null,
            "align_self": null,
            "border": null,
            "bottom": null,
            "display": null,
            "flex": null,
            "flex_flow": null,
            "grid_area": null,
            "grid_auto_columns": null,
            "grid_auto_flow": null,
            "grid_auto_rows": null,
            "grid_column": null,
            "grid_gap": null,
            "grid_row": null,
            "grid_template_areas": null,
            "grid_template_columns": null,
            "grid_template_rows": null,
            "height": null,
            "justify_content": null,
            "justify_items": null,
            "left": null,
            "margin": null,
            "max_height": null,
            "max_width": null,
            "min_height": null,
            "min_width": null,
            "object_fit": null,
            "object_position": null,
            "order": null,
            "overflow": null,
            "overflow_x": null,
            "overflow_y": null,
            "padding": null,
            "right": null,
            "top": null,
            "visibility": null,
            "width": null
          }
        },
        "33aaf50cb7d94b839dcaaa9367c20fb0": {
          "model_module": "@jupyter-widgets/controls",
          "model_module_version": "1.5.0",
          "model_name": "FloatProgressModel",
          "state": {
            "_dom_classes": [],
            "_model_module": "@jupyter-widgets/controls",
            "_model_module_version": "1.5.0",
            "_model_name": "FloatProgressModel",
            "_view_count": null,
            "_view_module": "@jupyter-widgets/controls",
            "_view_module_version": "1.5.0",
            "_view_name": "ProgressView",
            "bar_style": "success",
            "description": "",
            "description_tooltip": null,
            "layout": "IPY_MODEL_4e3efc6322ed402ba6b5e93e425ae11c",
            "max": 1,
            "min": 0,
            "orientation": "horizontal",
            "style": "IPY_MODEL_d505e6a95f2d40d99ecdfc28df90df02",
            "value": 1
          }
        },
        "3a9846e5412d401097cf0acfb96e0e0c": {
          "model_module": "@jupyter-widgets/controls",
          "model_module_version": "1.5.0",
          "model_name": "HTMLModel",
          "state": {
            "_dom_classes": [],
            "_model_module": "@jupyter-widgets/controls",
            "_model_module_version": "1.5.0",
            "_model_name": "HTMLModel",
            "_view_count": null,
            "_view_module": "@jupyter-widgets/controls",
            "_view_module_version": "1.5.0",
            "_view_name": "HTMLView",
            "description": "",
            "description_tooltip": null,
            "layout": "IPY_MODEL_2e7aaf12eaa041e5a083881e523987b8",
            "placeholder": "​",
            "style": "IPY_MODEL_11315354f9794803beeeaec243022a3a",
            "value": "Generating test split: "
          }
        },
        "3be9ffb455604cafa12bdec836d5b010": {
          "model_module": "@jupyter-widgets/controls",
          "model_module_version": "1.5.0",
          "model_name": "HTMLModel",
          "state": {
            "_dom_classes": [],
            "_model_module": "@jupyter-widgets/controls",
            "_model_module_version": "1.5.0",
            "_model_name": "HTMLModel",
            "_view_count": null,
            "_view_module": "@jupyter-widgets/controls",
            "_view_module_version": "1.5.0",
            "_view_name": "HTMLView",
            "description": "",
            "description_tooltip": null,
            "layout": "IPY_MODEL_a3e615805a004b05bbe25ddec72993fd",
            "placeholder": "​",
            "style": "IPY_MODEL_2e596a3bc53b4bb1b9a5c0d4cdad167f",
            "value": " 1471/1471 [00:00&lt;00:00, 2122.93 examples/s]"
          }
        },
        "3ff4b0dd9734443083580bc23f3ec9d1": {
          "model_module": "@jupyter-widgets/base",
          "model_module_version": "1.2.0",
          "model_name": "LayoutModel",
          "state": {
            "_model_module": "@jupyter-widgets/base",
            "_model_module_version": "1.2.0",
            "_model_name": "LayoutModel",
            "_view_count": null,
            "_view_module": "@jupyter-widgets/base",
            "_view_module_version": "1.2.0",
            "_view_name": "LayoutView",
            "align_content": null,
            "align_items": null,
            "align_self": null,
            "border": null,
            "bottom": null,
            "display": null,
            "flex": null,
            "flex_flow": null,
            "grid_area": null,
            "grid_auto_columns": null,
            "grid_auto_flow": null,
            "grid_auto_rows": null,
            "grid_column": null,
            "grid_gap": null,
            "grid_row": null,
            "grid_template_areas": null,
            "grid_template_columns": null,
            "grid_template_rows": null,
            "height": null,
            "justify_content": null,
            "justify_items": null,
            "left": null,
            "margin": null,
            "max_height": null,
            "max_width": null,
            "min_height": null,
            "min_width": null,
            "object_fit": null,
            "object_position": null,
            "order": null,
            "overflow": null,
            "overflow_x": null,
            "overflow_y": null,
            "padding": null,
            "right": null,
            "top": null,
            "visibility": null,
            "width": null
          }
        },
        "486fb4f04e354a1e98b5c10deafec9db": {
          "model_module": "@jupyter-widgets/controls",
          "model_module_version": "1.5.0",
          "model_name": "DescriptionStyleModel",
          "state": {
            "_model_module": "@jupyter-widgets/controls",
            "_model_module_version": "1.5.0",
            "_model_name": "DescriptionStyleModel",
            "_view_count": null,
            "_view_module": "@jupyter-widgets/base",
            "_view_module_version": "1.2.0",
            "_view_name": "StyleView",
            "description_width": ""
          }
        },
        "4e3efc6322ed402ba6b5e93e425ae11c": {
          "model_module": "@jupyter-widgets/base",
          "model_module_version": "1.2.0",
          "model_name": "LayoutModel",
          "state": {
            "_model_module": "@jupyter-widgets/base",
            "_model_module_version": "1.2.0",
            "_model_name": "LayoutModel",
            "_view_count": null,
            "_view_module": "@jupyter-widgets/base",
            "_view_module_version": "1.2.0",
            "_view_name": "LayoutView",
            "align_content": null,
            "align_items": null,
            "align_self": null,
            "border": null,
            "bottom": null,
            "display": null,
            "flex": null,
            "flex_flow": null,
            "grid_area": null,
            "grid_auto_columns": null,
            "grid_auto_flow": null,
            "grid_auto_rows": null,
            "grid_column": null,
            "grid_gap": null,
            "grid_row": null,
            "grid_template_areas": null,
            "grid_template_columns": null,
            "grid_template_rows": null,
            "height": null,
            "justify_content": null,
            "justify_items": null,
            "left": null,
            "margin": null,
            "max_height": null,
            "max_width": null,
            "min_height": null,
            "min_width": null,
            "object_fit": null,
            "object_position": null,
            "order": null,
            "overflow": null,
            "overflow_x": null,
            "overflow_y": null,
            "padding": null,
            "right": null,
            "top": null,
            "visibility": null,
            "width": "20px"
          }
        },
        "53934147a0c94dc5bb7fac4f6567b38d": {
          "model_module": "@jupyter-widgets/controls",
          "model_module_version": "1.5.0",
          "model_name": "HTMLModel",
          "state": {
            "_dom_classes": [],
            "_model_module": "@jupyter-widgets/controls",
            "_model_module_version": "1.5.0",
            "_model_name": "HTMLModel",
            "_view_count": null,
            "_view_module": "@jupyter-widgets/controls",
            "_view_module_version": "1.5.0",
            "_view_name": "HTMLView",
            "description": "",
            "description_tooltip": null,
            "layout": "IPY_MODEL_ac5d5f8922b14413baaebb9f3c187944",
            "placeholder": "​",
            "style": "IPY_MODEL_e0d8d6d3856747a890344667723b1e32",
            "value": "Generating val split: "
          }
        },
        "5f01e311515341f88f10e32a40b6f80f": {
          "model_module": "@jupyter-widgets/base",
          "model_module_version": "1.2.0",
          "model_name": "LayoutModel",
          "state": {
            "_model_module": "@jupyter-widgets/base",
            "_model_module_version": "1.2.0",
            "_model_name": "LayoutModel",
            "_view_count": null,
            "_view_module": "@jupyter-widgets/base",
            "_view_module_version": "1.2.0",
            "_view_name": "LayoutView",
            "align_content": null,
            "align_items": null,
            "align_self": null,
            "border": null,
            "bottom": null,
            "display": null,
            "flex": null,
            "flex_flow": null,
            "grid_area": null,
            "grid_auto_columns": null,
            "grid_auto_flow": null,
            "grid_auto_rows": null,
            "grid_column": null,
            "grid_gap": null,
            "grid_row": null,
            "grid_template_areas": null,
            "grid_template_columns": null,
            "grid_template_rows": null,
            "height": null,
            "justify_content": null,
            "justify_items": null,
            "left": null,
            "margin": null,
            "max_height": null,
            "max_width": null,
            "min_height": null,
            "min_width": null,
            "object_fit": null,
            "object_position": null,
            "order": null,
            "overflow": null,
            "overflow_x": null,
            "overflow_y": null,
            "padding": null,
            "right": null,
            "top": null,
            "visibility": null,
            "width": null
          }
        },
        "623579cb58004d9d9cd0230dc68796b0": {
          "model_module": "@jupyter-widgets/controls",
          "model_module_version": "1.5.0",
          "model_name": "ProgressStyleModel",
          "state": {
            "_model_module": "@jupyter-widgets/controls",
            "_model_module_version": "1.5.0",
            "_model_name": "ProgressStyleModel",
            "_view_count": null,
            "_view_module": "@jupyter-widgets/base",
            "_view_module_version": "1.2.0",
            "_view_name": "StyleView",
            "bar_color": null,
            "description_width": ""
          }
        },
        "6cace6cdfc1a4c6390bbbeef44d2b0b8": {
          "model_module": "@jupyter-widgets/controls",
          "model_module_version": "1.5.0",
          "model_name": "DescriptionStyleModel",
          "state": {
            "_model_module": "@jupyter-widgets/controls",
            "_model_module_version": "1.5.0",
            "_model_name": "DescriptionStyleModel",
            "_view_count": null,
            "_view_module": "@jupyter-widgets/base",
            "_view_module_version": "1.2.0",
            "_view_name": "StyleView",
            "description_width": ""
          }
        },
        "84ed42c0008848ff93db92ad9227cbdb": {
          "model_module": "@jupyter-widgets/controls",
          "model_module_version": "1.5.0",
          "model_name": "HTMLModel",
          "state": {
            "_dom_classes": [],
            "_model_module": "@jupyter-widgets/controls",
            "_model_module_version": "1.5.0",
            "_model_name": "HTMLModel",
            "_view_count": null,
            "_view_module": "@jupyter-widgets/controls",
            "_view_module_version": "1.5.0",
            "_view_name": "HTMLView",
            "description": "",
            "description_tooltip": null,
            "layout": "IPY_MODEL_5f01e311515341f88f10e32a40b6f80f",
            "placeholder": "​",
            "style": "IPY_MODEL_b6e247d073a44d579c78e45a8f510b9c",
            "value": " 1476/0 [00:00&lt;00:00, 14736.65 examples/s]"
          }
        },
        "9cd381156c00408bbd5a15e11b8cd8a3": {
          "model_module": "@jupyter-widgets/base",
          "model_module_version": "1.2.0",
          "model_name": "LayoutModel",
          "state": {
            "_model_module": "@jupyter-widgets/base",
            "_model_module_version": "1.2.0",
            "_model_name": "LayoutModel",
            "_view_count": null,
            "_view_module": "@jupyter-widgets/base",
            "_view_module_version": "1.2.0",
            "_view_name": "LayoutView",
            "align_content": null,
            "align_items": null,
            "align_self": null,
            "border": null,
            "bottom": null,
            "display": null,
            "flex": null,
            "flex_flow": null,
            "grid_area": null,
            "grid_auto_columns": null,
            "grid_auto_flow": null,
            "grid_auto_rows": null,
            "grid_column": null,
            "grid_gap": null,
            "grid_row": null,
            "grid_template_areas": null,
            "grid_template_columns": null,
            "grid_template_rows": null,
            "height": null,
            "justify_content": null,
            "justify_items": null,
            "left": null,
            "margin": null,
            "max_height": null,
            "max_width": null,
            "min_height": null,
            "min_width": null,
            "object_fit": null,
            "object_position": null,
            "order": null,
            "overflow": null,
            "overflow_x": null,
            "overflow_y": null,
            "padding": null,
            "right": null,
            "top": null,
            "visibility": null,
            "width": null
          }
        },
        "a3e615805a004b05bbe25ddec72993fd": {
          "model_module": "@jupyter-widgets/base",
          "model_module_version": "1.2.0",
          "model_name": "LayoutModel",
          "state": {
            "_model_module": "@jupyter-widgets/base",
            "_model_module_version": "1.2.0",
            "_model_name": "LayoutModel",
            "_view_count": null,
            "_view_module": "@jupyter-widgets/base",
            "_view_module_version": "1.2.0",
            "_view_name": "LayoutView",
            "align_content": null,
            "align_items": null,
            "align_self": null,
            "border": null,
            "bottom": null,
            "display": null,
            "flex": null,
            "flex_flow": null,
            "grid_area": null,
            "grid_auto_columns": null,
            "grid_auto_flow": null,
            "grid_auto_rows": null,
            "grid_column": null,
            "grid_gap": null,
            "grid_row": null,
            "grid_template_areas": null,
            "grid_template_columns": null,
            "grid_template_rows": null,
            "height": null,
            "justify_content": null,
            "justify_items": null,
            "left": null,
            "margin": null,
            "max_height": null,
            "max_width": null,
            "min_height": null,
            "min_width": null,
            "object_fit": null,
            "object_position": null,
            "order": null,
            "overflow": null,
            "overflow_x": null,
            "overflow_y": null,
            "padding": null,
            "right": null,
            "top": null,
            "visibility": null,
            "width": null
          }
        },
        "a7b9a222480b40fea938cc489eeaa881": {
          "model_module": "@jupyter-widgets/base",
          "model_module_version": "1.2.0",
          "model_name": "LayoutModel",
          "state": {
            "_model_module": "@jupyter-widgets/base",
            "_model_module_version": "1.2.0",
            "_model_name": "LayoutModel",
            "_view_count": null,
            "_view_module": "@jupyter-widgets/base",
            "_view_module_version": "1.2.0",
            "_view_name": "LayoutView",
            "align_content": null,
            "align_items": null,
            "align_self": null,
            "border": null,
            "bottom": null,
            "display": null,
            "flex": null,
            "flex_flow": null,
            "grid_area": null,
            "grid_auto_columns": null,
            "grid_auto_flow": null,
            "grid_auto_rows": null,
            "grid_column": null,
            "grid_gap": null,
            "grid_row": null,
            "grid_template_areas": null,
            "grid_template_columns": null,
            "grid_template_rows": null,
            "height": null,
            "justify_content": null,
            "justify_items": null,
            "left": null,
            "margin": null,
            "max_height": null,
            "max_width": null,
            "min_height": null,
            "min_width": null,
            "object_fit": null,
            "object_position": null,
            "order": null,
            "overflow": null,
            "overflow_x": null,
            "overflow_y": null,
            "padding": null,
            "right": null,
            "top": null,
            "visibility": null,
            "width": null
          }
        },
        "ab59b87bdeb74bfa8c20e90debbb02d8": {
          "model_module": "@jupyter-widgets/base",
          "model_module_version": "1.2.0",
          "model_name": "LayoutModel",
          "state": {
            "_model_module": "@jupyter-widgets/base",
            "_model_module_version": "1.2.0",
            "_model_name": "LayoutModel",
            "_view_count": null,
            "_view_module": "@jupyter-widgets/base",
            "_view_module_version": "1.2.0",
            "_view_name": "LayoutView",
            "align_content": null,
            "align_items": null,
            "align_self": null,
            "border": null,
            "bottom": null,
            "display": null,
            "flex": null,
            "flex_flow": null,
            "grid_area": null,
            "grid_auto_columns": null,
            "grid_auto_flow": null,
            "grid_auto_rows": null,
            "grid_column": null,
            "grid_gap": null,
            "grid_row": null,
            "grid_template_areas": null,
            "grid_template_columns": null,
            "grid_template_rows": null,
            "height": null,
            "justify_content": null,
            "justify_items": null,
            "left": null,
            "margin": null,
            "max_height": null,
            "max_width": null,
            "min_height": null,
            "min_width": null,
            "object_fit": null,
            "object_position": null,
            "order": null,
            "overflow": null,
            "overflow_x": null,
            "overflow_y": null,
            "padding": null,
            "right": null,
            "top": null,
            "visibility": null,
            "width": null
          }
        },
        "ac5d5f8922b14413baaebb9f3c187944": {
          "model_module": "@jupyter-widgets/base",
          "model_module_version": "1.2.0",
          "model_name": "LayoutModel",
          "state": {
            "_model_module": "@jupyter-widgets/base",
            "_model_module_version": "1.2.0",
            "_model_name": "LayoutModel",
            "_view_count": null,
            "_view_module": "@jupyter-widgets/base",
            "_view_module_version": "1.2.0",
            "_view_name": "LayoutView",
            "align_content": null,
            "align_items": null,
            "align_self": null,
            "border": null,
            "bottom": null,
            "display": null,
            "flex": null,
            "flex_flow": null,
            "grid_area": null,
            "grid_auto_columns": null,
            "grid_auto_flow": null,
            "grid_auto_rows": null,
            "grid_column": null,
            "grid_gap": null,
            "grid_row": null,
            "grid_template_areas": null,
            "grid_template_columns": null,
            "grid_template_rows": null,
            "height": null,
            "justify_content": null,
            "justify_items": null,
            "left": null,
            "margin": null,
            "max_height": null,
            "max_width": null,
            "min_height": null,
            "min_width": null,
            "object_fit": null,
            "object_position": null,
            "order": null,
            "overflow": null,
            "overflow_x": null,
            "overflow_y": null,
            "padding": null,
            "right": null,
            "top": null,
            "visibility": null,
            "width": null
          }
        },
        "b3302a1f7dfd4c768fac6c7cc7cf076d": {
          "model_module": "@jupyter-widgets/controls",
          "model_module_version": "1.5.0",
          "model_name": "HBoxModel",
          "state": {
            "_dom_classes": [],
            "_model_module": "@jupyter-widgets/controls",
            "_model_module_version": "1.5.0",
            "_model_name": "HBoxModel",
            "_view_count": null,
            "_view_module": "@jupyter-widgets/controls",
            "_view_module_version": "1.5.0",
            "_view_name": "HBoxView",
            "box_style": "",
            "children": [
              "IPY_MODEL_3a9846e5412d401097cf0acfb96e0e0c",
              "IPY_MODEL_d065d77eaeac4f70a23d334bc9797334",
              "IPY_MODEL_84ed42c0008848ff93db92ad9227cbdb"
            ],
            "layout": "IPY_MODEL_00c4b451a6d246e9852102b9ddfc7d40"
          }
        },
        "b6e247d073a44d579c78e45a8f510b9c": {
          "model_module": "@jupyter-widgets/controls",
          "model_module_version": "1.5.0",
          "model_name": "DescriptionStyleModel",
          "state": {
            "_model_module": "@jupyter-widgets/controls",
            "_model_module_version": "1.5.0",
            "_model_name": "DescriptionStyleModel",
            "_view_count": null,
            "_view_module": "@jupyter-widgets/base",
            "_view_module_version": "1.2.0",
            "_view_name": "StyleView",
            "description_width": ""
          }
        },
        "b905e42abf324bd199e04f3e55f96f73": {
          "model_module": "@jupyter-widgets/base",
          "model_module_version": "1.2.0",
          "model_name": "LayoutModel",
          "state": {
            "_model_module": "@jupyter-widgets/base",
            "_model_module_version": "1.2.0",
            "_model_name": "LayoutModel",
            "_view_count": null,
            "_view_module": "@jupyter-widgets/base",
            "_view_module_version": "1.2.0",
            "_view_name": "LayoutView",
            "align_content": null,
            "align_items": null,
            "align_self": null,
            "border": null,
            "bottom": null,
            "display": null,
            "flex": null,
            "flex_flow": null,
            "grid_area": null,
            "grid_auto_columns": null,
            "grid_auto_flow": null,
            "grid_auto_rows": null,
            "grid_column": null,
            "grid_gap": null,
            "grid_row": null,
            "grid_template_areas": null,
            "grid_template_columns": null,
            "grid_template_rows": null,
            "height": null,
            "justify_content": null,
            "justify_items": null,
            "left": null,
            "margin": null,
            "max_height": null,
            "max_width": null,
            "min_height": null,
            "min_width": null,
            "object_fit": null,
            "object_position": null,
            "order": null,
            "overflow": null,
            "overflow_x": null,
            "overflow_y": null,
            "padding": null,
            "right": null,
            "top": null,
            "visibility": null,
            "width": null
          }
        },
        "b99c81016aa94fc9a13cb09a7141f356": {
          "model_module": "@jupyter-widgets/controls",
          "model_module_version": "1.5.0",
          "model_name": "HBoxModel",
          "state": {
            "_dom_classes": [],
            "_model_module": "@jupyter-widgets/controls",
            "_model_module_version": "1.5.0",
            "_model_name": "HBoxModel",
            "_view_count": null,
            "_view_module": "@jupyter-widgets/controls",
            "_view_module_version": "1.5.0",
            "_view_name": "HBoxView",
            "box_style": "",
            "children": [
              "IPY_MODEL_53934147a0c94dc5bb7fac4f6567b38d",
              "IPY_MODEL_e287087273974426bd08cdea992c08a3",
              "IPY_MODEL_c8da7812556c43f197154a8076848044"
            ],
            "layout": "IPY_MODEL_9cd381156c00408bbd5a15e11b8cd8a3"
          }
        },
        "bbbe6c711d8449348d97b82ded6dc95f": {
          "model_module": "@jupyter-widgets/controls",
          "model_module_version": "1.5.0",
          "model_name": "ProgressStyleModel",
          "state": {
            "_model_module": "@jupyter-widgets/controls",
            "_model_module_version": "1.5.0",
            "_model_name": "ProgressStyleModel",
            "_view_count": null,
            "_view_module": "@jupyter-widgets/base",
            "_view_module_version": "1.2.0",
            "_view_name": "StyleView",
            "bar_color": null,
            "description_width": ""
          }
        },
        "c8da7812556c43f197154a8076848044": {
          "model_module": "@jupyter-widgets/controls",
          "model_module_version": "1.5.0",
          "model_name": "HTMLModel",
          "state": {
            "_dom_classes": [],
            "_model_module": "@jupyter-widgets/controls",
            "_model_module_version": "1.5.0",
            "_model_name": "HTMLModel",
            "_view_count": null,
            "_view_module": "@jupyter-widgets/controls",
            "_view_module_version": "1.5.0",
            "_view_name": "HTMLView",
            "description": "",
            "description_tooltip": null,
            "layout": "IPY_MODEL_b905e42abf324bd199e04f3e55f96f73",
            "placeholder": "​",
            "style": "IPY_MODEL_d102e33c778f43c48a4d70a40353eb94",
            "value": " 738/0 [00:00&lt;00:00, 6854.73 examples/s]"
          }
        },
        "d065d77eaeac4f70a23d334bc9797334": {
          "model_module": "@jupyter-widgets/controls",
          "model_module_version": "1.5.0",
          "model_name": "FloatProgressModel",
          "state": {
            "_dom_classes": [],
            "_model_module": "@jupyter-widgets/controls",
            "_model_module_version": "1.5.0",
            "_model_name": "FloatProgressModel",
            "_view_count": null,
            "_view_module": "@jupyter-widgets/controls",
            "_view_module_version": "1.5.0",
            "_view_name": "ProgressView",
            "bar_style": "success",
            "description": "",
            "description_tooltip": null,
            "layout": "IPY_MODEL_2465d59399b2453d8fcca562d3dd41eb",
            "max": 1,
            "min": 0,
            "orientation": "horizontal",
            "style": "IPY_MODEL_623579cb58004d9d9cd0230dc68796b0",
            "value": 1
          }
        },
        "d102e33c778f43c48a4d70a40353eb94": {
          "model_module": "@jupyter-widgets/controls",
          "model_module_version": "1.5.0",
          "model_name": "DescriptionStyleModel",
          "state": {
            "_model_module": "@jupyter-widgets/controls",
            "_model_module_version": "1.5.0",
            "_model_name": "DescriptionStyleModel",
            "_view_count": null,
            "_view_module": "@jupyter-widgets/base",
            "_view_module_version": "1.2.0",
            "_view_name": "StyleView",
            "description_width": ""
          }
        },
        "d505e6a95f2d40d99ecdfc28df90df02": {
          "model_module": "@jupyter-widgets/controls",
          "model_module_version": "1.5.0",
          "model_name": "ProgressStyleModel",
          "state": {
            "_model_module": "@jupyter-widgets/controls",
            "_model_module_version": "1.5.0",
            "_model_name": "ProgressStyleModel",
            "_view_count": null,
            "_view_module": "@jupyter-widgets/base",
            "_view_module_version": "1.2.0",
            "_view_name": "StyleView",
            "bar_color": null,
            "description_width": ""
          }
        },
        "da11601c54cf42e5a7bf6654c9ca62bd": {
          "model_module": "@jupyter-widgets/controls",
          "model_module_version": "1.5.0",
          "model_name": "HTMLModel",
          "state": {
            "_dom_classes": [],
            "_model_module": "@jupyter-widgets/controls",
            "_model_module_version": "1.5.0",
            "_model_name": "HTMLModel",
            "_view_count": null,
            "_view_module": "@jupyter-widgets/controls",
            "_view_module_version": "1.5.0",
            "_view_name": "HTMLView",
            "description": "",
            "description_tooltip": null,
            "layout": "IPY_MODEL_ab59b87bdeb74bfa8c20e90debbb02d8",
            "placeholder": "​",
            "style": "IPY_MODEL_486fb4f04e354a1e98b5c10deafec9db",
            "value": "Map: 100%"
          }
        },
        "dfe71241b9b24149bddc5f2e6b092132": {
          "model_module": "@jupyter-widgets/base",
          "model_module_version": "1.2.0",
          "model_name": "LayoutModel",
          "state": {
            "_model_module": "@jupyter-widgets/base",
            "_model_module_version": "1.2.0",
            "_model_name": "LayoutModel",
            "_view_count": null,
            "_view_module": "@jupyter-widgets/base",
            "_view_module_version": "1.2.0",
            "_view_name": "LayoutView",
            "align_content": null,
            "align_items": null,
            "align_self": null,
            "border": null,
            "bottom": null,
            "display": null,
            "flex": null,
            "flex_flow": null,
            "grid_area": null,
            "grid_auto_columns": null,
            "grid_auto_flow": null,
            "grid_auto_rows": null,
            "grid_column": null,
            "grid_gap": null,
            "grid_row": null,
            "grid_template_areas": null,
            "grid_template_columns": null,
            "grid_template_rows": null,
            "height": null,
            "justify_content": null,
            "justify_items": null,
            "left": null,
            "margin": null,
            "max_height": null,
            "max_width": null,
            "min_height": null,
            "min_width": null,
            "object_fit": null,
            "object_position": null,
            "order": null,
            "overflow": null,
            "overflow_x": null,
            "overflow_y": null,
            "padding": null,
            "right": null,
            "top": null,
            "visibility": null,
            "width": null
          }
        },
        "e0d8d6d3856747a890344667723b1e32": {
          "model_module": "@jupyter-widgets/controls",
          "model_module_version": "1.5.0",
          "model_name": "DescriptionStyleModel",
          "state": {
            "_model_module": "@jupyter-widgets/controls",
            "_model_module_version": "1.5.0",
            "_model_name": "DescriptionStyleModel",
            "_view_count": null,
            "_view_module": "@jupyter-widgets/base",
            "_view_module_version": "1.2.0",
            "_view_name": "StyleView",
            "description_width": ""
          }
        },
        "e287087273974426bd08cdea992c08a3": {
          "model_module": "@jupyter-widgets/controls",
          "model_module_version": "1.5.0",
          "model_name": "FloatProgressModel",
          "state": {
            "_dom_classes": [],
            "_model_module": "@jupyter-widgets/controls",
            "_model_module_version": "1.5.0",
            "_model_name": "FloatProgressModel",
            "_view_count": null,
            "_view_module": "@jupyter-widgets/controls",
            "_view_module_version": "1.5.0",
            "_view_name": "ProgressView",
            "bar_style": "success",
            "description": "",
            "description_tooltip": null,
            "layout": "IPY_MODEL_e94d3b6250ab40bdac79945bda275ef8",
            "max": 1,
            "min": 0,
            "orientation": "horizontal",
            "style": "IPY_MODEL_fcff5d804ed34811a219d373318d9429",
            "value": 1
          }
        },
        "e94d3b6250ab40bdac79945bda275ef8": {
          "model_module": "@jupyter-widgets/base",
          "model_module_version": "1.2.0",
          "model_name": "LayoutModel",
          "state": {
            "_model_module": "@jupyter-widgets/base",
            "_model_module_version": "1.2.0",
            "_model_name": "LayoutModel",
            "_view_count": null,
            "_view_module": "@jupyter-widgets/base",
            "_view_module_version": "1.2.0",
            "_view_name": "LayoutView",
            "align_content": null,
            "align_items": null,
            "align_self": null,
            "border": null,
            "bottom": null,
            "display": null,
            "flex": null,
            "flex_flow": null,
            "grid_area": null,
            "grid_auto_columns": null,
            "grid_auto_flow": null,
            "grid_auto_rows": null,
            "grid_column": null,
            "grid_gap": null,
            "grid_row": null,
            "grid_template_areas": null,
            "grid_template_columns": null,
            "grid_template_rows": null,
            "height": null,
            "justify_content": null,
            "justify_items": null,
            "left": null,
            "margin": null,
            "max_height": null,
            "max_width": null,
            "min_height": null,
            "min_width": null,
            "object_fit": null,
            "object_position": null,
            "order": null,
            "overflow": null,
            "overflow_x": null,
            "overflow_y": null,
            "padding": null,
            "right": null,
            "top": null,
            "visibility": null,
            "width": "20px"
          }
        },
        "ea21ef6a1d484dc4a8101986c060f346": {
          "model_module": "@jupyter-widgets/controls",
          "model_module_version": "1.5.0",
          "model_name": "DescriptionStyleModel",
          "state": {
            "_model_module": "@jupyter-widgets/controls",
            "_model_module_version": "1.5.0",
            "_model_name": "DescriptionStyleModel",
            "_view_count": null,
            "_view_module": "@jupyter-widgets/base",
            "_view_module_version": "1.2.0",
            "_view_name": "StyleView",
            "description_width": ""
          }
        },
        "efdfb7ccfb2e4400b3efb2ef0419ee78": {
          "model_module": "@jupyter-widgets/controls",
          "model_module_version": "1.5.0",
          "model_name": "HBoxModel",
          "state": {
            "_dom_classes": [],
            "_model_module": "@jupyter-widgets/controls",
            "_model_module_version": "1.5.0",
            "_model_name": "HBoxModel",
            "_view_count": null,
            "_view_module": "@jupyter-widgets/controls",
            "_view_module_version": "1.5.0",
            "_view_name": "HBoxView",
            "box_style": "",
            "children": [
              "IPY_MODEL_10064f007e334d74b4555974f3287c65",
              "IPY_MODEL_33aaf50cb7d94b839dcaaa9367c20fb0",
              "IPY_MODEL_fd45234d8d7c40a7a03d53412df3aca1"
            ],
            "layout": "IPY_MODEL_a7b9a222480b40fea938cc489eeaa881"
          }
        },
        "fcbdb84c8ca74f9a8df9cffaa8b5f7e4": {
          "model_module": "@jupyter-widgets/base",
          "model_module_version": "1.2.0",
          "model_name": "LayoutModel",
          "state": {
            "_model_module": "@jupyter-widgets/base",
            "_model_module_version": "1.2.0",
            "_model_name": "LayoutModel",
            "_view_count": null,
            "_view_module": "@jupyter-widgets/base",
            "_view_module_version": "1.2.0",
            "_view_name": "LayoutView",
            "align_content": null,
            "align_items": null,
            "align_self": null,
            "border": null,
            "bottom": null,
            "display": null,
            "flex": null,
            "flex_flow": null,
            "grid_area": null,
            "grid_auto_columns": null,
            "grid_auto_flow": null,
            "grid_auto_rows": null,
            "grid_column": null,
            "grid_gap": null,
            "grid_row": null,
            "grid_template_areas": null,
            "grid_template_columns": null,
            "grid_template_rows": null,
            "height": null,
            "justify_content": null,
            "justify_items": null,
            "left": null,
            "margin": null,
            "max_height": null,
            "max_width": null,
            "min_height": null,
            "min_width": null,
            "object_fit": null,
            "object_position": null,
            "order": null,
            "overflow": null,
            "overflow_x": null,
            "overflow_y": null,
            "padding": null,
            "right": null,
            "top": null,
            "visibility": null,
            "width": null
          }
        },
        "fcff5d804ed34811a219d373318d9429": {
          "model_module": "@jupyter-widgets/controls",
          "model_module_version": "1.5.0",
          "model_name": "ProgressStyleModel",
          "state": {
            "_model_module": "@jupyter-widgets/controls",
            "_model_module_version": "1.5.0",
            "_model_name": "ProgressStyleModel",
            "_view_count": null,
            "_view_module": "@jupyter-widgets/base",
            "_view_module_version": "1.2.0",
            "_view_name": "StyleView",
            "bar_color": null,
            "description_width": ""
          }
        },
        "fd45234d8d7c40a7a03d53412df3aca1": {
          "model_module": "@jupyter-widgets/controls",
          "model_module_version": "1.5.0",
          "model_name": "HTMLModel",
          "state": {
            "_dom_classes": [],
            "_model_module": "@jupyter-widgets/controls",
            "_model_module_version": "1.5.0",
            "_model_name": "HTMLModel",
            "_view_count": null,
            "_view_module": "@jupyter-widgets/controls",
            "_view_module_version": "1.5.0",
            "_view_name": "HTMLView",
            "description": "",
            "description_tooltip": null,
            "layout": "IPY_MODEL_13f6c508fa454bf8a003f2e63214e70b",
            "placeholder": "​",
            "style": "IPY_MODEL_6cace6cdfc1a4c6390bbbeef44d2b0b8",
            "value": " 5166/0 [00:00&lt;00:00, 29243.47 examples/s]"
          }
        }
      }
    }
  },
  "nbformat": 4,
  "nbformat_minor": 0
}
